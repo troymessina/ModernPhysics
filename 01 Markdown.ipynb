{
 "cells": [
  {
   "cell_type": "markdown",
   "metadata": {},
   "source": [
    "# Markdown"
   ]
  },
  {
   "cell_type": "markdown",
   "metadata": {},
   "source": [
    "The purpose of this tutorial is to introduce you to markdown in Jupyter Notebook.\n",
    "\n",
    "Many parts of this file are quoted verbatim from the [Jupyter Notebook Users Manual](https://athena.brynmawr.edu/jupyter/hub/dblank/public/Jupyter%20Notebook%20Users%20Manual.ipynb) by Doug Blank at Bryn Mawr College."
   ]
  },
  {
   "cell_type": "markdown",
   "metadata": {},
   "source": [
    "# Using Markdown to Write Styled Text"
   ]
  },
  {
   "cell_type": "markdown",
   "metadata": {},
   "source": [
    "There are four different types of cells in Jupyter:\n",
    "    \n",
    "1. Code\n",
    "2. Markdown\n",
    "3. Raw NBConvert\n",
    "4. Heading\n",
    "    \n",
    "We will learn how to use Code and Markdown cells, starting with Markdown cells. Markdown is a simple method (compared to HTML) for marking text to make lists, headings, boldfaced font, italics font, etc. When you want to embed styled text, such as instructions, in a notebook, use Markdown."
   ]
  },
  {
   "cell_type": "markdown",
   "metadata": {},
   "source": [
    "## Markdown and Headings"
   ]
  },
  {
   "cell_type": "markdown",
   "metadata": {},
   "source": [
    "By default, a new cell is for Code. To change the cell type, choose Markdown from the cell's select menu in the toolbar as shown in this screen capture.\n",
    "\n",
    "![Toolbar-md](01-files/toolbar-md.png)\n",
    "\n",
    "After changing a cell's type to Markdown, you can enter text. To make a Level 1 Heading (the largest font), type \n",
    "\n",
    "```\n",
    "\n",
    "    # My Heading 1\n",
    "\n",
    "```\n",
    "\n",
    "which displays as:\n",
    "\n",
    "# My Heading 1\n",
    "\n",
    "To view the results, type *shift-enter*."
   ]
  },
  {
   "cell_type": "markdown",
   "metadata": {},
   "source": [
    "For a second-level header, use\n",
    "\n",
    "```\n",
    "\n",
    "    ## My Heading 2\n",
    "\n",
    "```\n",
    "\n",
    "which will appear as:\n",
    "\n",
    "## My Heading 2\n",
    "\n",
    "Others are:\n",
    "\n",
    "```\n",
    "\n",
    "    ### My Heading 3\n",
    "\n",
    "```\n",
    "\n",
    "### My Heading 3\n",
    "\n",
    "```\n",
    "\n",
    "    #### My Heading 4\n",
    "\n",
    "```\n",
    "\n",
    "#### My Heading 4\n",
    "\n",
    "```\n",
    "\n",
    "    ##### My Heading 5\n",
    "\n",
    "```\n",
    "\n",
    "#### My Heading 5\n",
    "\n",
    "```\n",
    "\n",
    "    ###### My Heading 6\n",
    "\n",
    "```\n",
    "\n",
    "###### My Heading 6\n"
   ]
  },
  {
   "cell_type": "markdown",
   "metadata": {},
   "source": [
    "In these examples, the hashtags are markers which tell the Notebook how to typeset the text. (The space after the hashtags is required.) There are many markup languages with the most familiar being HTML (Hyper Text Markup Language).\n",
    "\n",
    "One markup language is called **Markdown**, named somewhat jokingly for its simplicity. Markdown is a plain text formatting syntax that Jupyter uses to generate HTML, which the cell can interpret and render. This means that Markdown Cells can also render plain HTML code. If you're interested in learning HTML, check out this [helpful online tutorial][html tutorial].\n",
    "\n",
    "This [Github-flavored Markdown](https://github.com/adam-p/markdown-here/wiki/Markdown-Cheatsheet) page has many useful links.\n",
    "\n",
    "[html tutorial]: http://www.w3schools.com/html/ \"w3schools.com HTML Tutorial\""
   ]
  },
  {
   "cell_type": "markdown",
   "metadata": {},
   "source": [
    "## Lists"
   ]
  },
  {
   "cell_type": "markdown",
   "metadata": {},
   "source": [
    "In Markdown, you can list items using numbers, a **`+`**, a **` - `**, or a **`*`**. However, if the first item in a list or sublist is numbered, Markdown will interpret the entire list or sublist as ordered and will automatically number the items linearly, no matter what character you use to denote any given separate item."
   ]
  },
  {
   "cell_type": "markdown",
   "metadata": {},
   "source": [
    "<pre>\n",
    "####Sports Teams:\n",
    "\n",
    "1. St. Louis\n",
    "    1. Cardinals\n",
    "    - Blues\n",
    "\n",
    "- Philadelphia\n",
    "    1. Eagles\n",
    "    - Phillies\n",
    "    - Sixers\n",
    "    - Flyers\n",
    "\n",
    "- Chicago\n",
    "    1. Cubs\n",
    "    - White Sox\n",
    "    - Bears\n",
    "    * Blackhawks\n",
    "    + Bulls\n",
    "</pre> "
   ]
  },
  {
   "cell_type": "markdown",
   "metadata": {},
   "source": [
    "#### Sports Teams:\n",
    "\n",
    "1. St. Louis\n",
    "    1. Cardinals\n",
    "    - Blues\n",
    "\n",
    "- Philadelphia\n",
    "    1. Eagles\n",
    "    - Phillies\n",
    "    - Sixers\n",
    "    - Flyers\n",
    "\n",
    "- Chicago\n",
    "    1. Cubs\n",
    "    - White Sox\n",
    "    - Bears\n",
    "    * Blackhawks\n",
    "    + Bulls"
   ]
  },
  {
   "cell_type": "markdown",
   "metadata": {},
   "source": [
    "For a bulleted list, do not begin with a number. "
   ]
  },
  {
   "cell_type": "markdown",
   "metadata": {},
   "source": [
    "<pre>\n",
    "####Sports Teams:\n",
    "\n",
    "* St. Louis\n",
    "    - Cardinals\n",
    "    - Blues\n",
    "\n",
    "- Philadelphia\n",
    "    * Eagles\n",
    "    - Phillies\n",
    "    - Sixers\n",
    "    - Flyers\n",
    "\n",
    "- Chicago\n",
    "    + Cubs\n",
    "    - White Sox\n",
    "    - Bears\n",
    "    * Blackhawks\n",
    "</pre> "
   ]
  },
  {
   "cell_type": "markdown",
   "metadata": {},
   "source": [
    "#### Sports Teams:\n",
    "\n",
    "* St. Louis\n",
    "    - Cardinals\n",
    "    - Blues\n",
    "\n",
    "- Philadelphia\n",
    "    * Eagles\n",
    "    - Phillies\n",
    "    - Sixers\n",
    "    - Flyers\n",
    "\n",
    "- Chicago\n",
    "    + Cubs\n",
    "    - White Sox\n",
    "    - Bears\n",
    "    * Blackhawks"
   ]
  },
  {
   "cell_type": "markdown",
   "metadata": {},
   "source": [
    "## Special Characters"
   ]
  },
  {
   "cell_type": "markdown",
   "metadata": {},
   "source": [
    "What happens if you want to include a literal character, like a **`#`**, that usually has a specific function in Markdown? Backslash Escape is a function that prevents Markdown from interpreting a character as an instruction, rather than as the character itself. It works like this:"
   ]
  },
  {
   "cell_type": "markdown",
   "metadata": {},
   "source": [
    "<pre>\n",
    "\\# Wow, this isn't a header. \n",
    "# This is definitely a header.\n",
    "</pre>"
   ]
  },
  {
   "cell_type": "markdown",
   "metadata": {},
   "source": [
    "\\# Wow, this isn't a header. \n",
    "# This is definitely a header."
   ]
  },
  {
   "cell_type": "markdown",
   "metadata": {},
   "source": [
    "Markdown allows you to use a backslash to escape from the functions of the following characters:\n",
    "* \\   backslash\n",
    "* `   backtick\n",
    "* \\*   asterisk\n",
    "* _   underscore\n",
    "* {}  curly braces\n",
    "* []  square brackets\n",
    "* ()  parentheses\n",
    "* \\#   hashtag\n",
    "* \\+   plus sign|\n",
    "* \\-   minus sign (hyphen)\n",
    "* .   dot\n",
    "* !   exclamation mark"
   ]
  },
  {
   "cell_type": "markdown",
   "metadata": {},
   "source": [
    "## Hyperlinks"
   ]
  },
  {
   "cell_type": "markdown",
   "metadata": {},
   "source": [
    "### Automatic Links"
   ]
  },
  {
   "cell_type": "markdown",
   "metadata": {},
   "source": [
    "<pre>\n",
    "http://en.wikipedia.org\n",
    "</pre>"
   ]
  },
  {
   "cell_type": "markdown",
   "metadata": {},
   "source": [
    "http://en.wikipedia.org"
   ]
  },
  {
   "cell_type": "markdown",
   "metadata": {},
   "source": [
    "### Standard Links"
   ]
  },
  {
   "cell_type": "markdown",
   "metadata": {},
   "source": [
    "<pre>\n",
    "[click this link](http://en.wikipedia.org)\n",
    "</pre>"
   ]
  },
  {
   "cell_type": "markdown",
   "metadata": {},
   "source": [
    "[click this link](http://en.wikipedia.org)"
   ]
  },
  {
   "cell_type": "markdown",
   "metadata": {},
   "source": [
    "## Tables"
   ]
  },
  {
   "cell_type": "markdown",
   "metadata": {},
   "source": [
    "In Markdown, you can make a table by using vertical bars and dashes to define the cell and header borders:"
   ]
  },
  {
   "cell_type": "markdown",
   "metadata": {},
   "source": [
    "<pre>\n",
    "|Header|Header|Header|Header|\n",
    "|------|------|------|------|\n",
    "|Cell 11 |Cell 12 |Cell 13 | Cell 14|\n",
    "|Cell 21 |Cell 22 |Cell 23 | Cell 24|\n",
    "|Cell 31 |Cell 32 |Cell 33 | Cell 34|\n",
    "|Cell 41 |Cell 42 |Cell 43 | Cell 44|\n",
    "</pre>"
   ]
  },
  {
   "cell_type": "markdown",
   "metadata": {},
   "source": [
    "|Header|Header|Header|Header|\n",
    "|------|------|------|------|\n",
    "|Cell 11 |Cell 12 |Cell 13 | Cell 14|\n",
    "|Cell 21 |Cell 22 |Cell 23 | Cell 24|\n",
    "|Cell 31 |Cell 32 |Cell 33 | Cell 34|\n",
    "|Cell 41 |Cell 42 |Cell 43 | Cell 44|"
   ]
  },
  {
   "cell_type": "markdown",
   "metadata": {},
   "source": [
    "### Cell Justification"
   ]
  },
  {
   "cell_type": "markdown",
   "metadata": {},
   "source": [
    "If not otherwise specified, the text in each header and cell of a table will justify to the left. If, however, you wish to specify either right justification or centering, you may do so like this: "
   ]
  },
  {
   "cell_type": "markdown",
   "metadata": {},
   "source": [
    "<tt>\n",
    "**Centered, Right-Justified, and Regular Cells and Headers**:\n",
    "\n",
    "centered header  |  regular header  |  right-justified header  |  centered header  |  regular header  \n",
    ":-:|-|-:|:-:|-\n",
    "centered cell|regular cell|right-justified cell|centered cell|regular cell\n",
    "centered cell|regular cell|right-justified cell|centered cell|regular cell\n",
    "</tt>"
   ]
  },
  {
   "cell_type": "markdown",
   "metadata": {},
   "source": [
    "**Centered, Right-Justified, and Regular Cells and Headers**:\n",
    "\n",
    "centered header  |  regular header  |  right-justified header  |  centered header  |  regular header  \n",
    ":-:|-|-:|:-:|-\n",
    "centered cell|regular cell|right-justified cell|centered cell|regular cell\n",
    "centered cell|regular cell|right-justified cell|centered cell|regular cell\n"
   ]
  },
  {
   "cell_type": "markdown",
   "metadata": {},
   "source": [
    "While it is difficult to see that the headers are differently justified from one another, this is just because the longest line of characters in any column defines the width of the headers and cells in that column. "
   ]
  },
  {
   "cell_type": "markdown",
   "metadata": {},
   "source": [
    "**Note:** You cannot make tables directly beneath a line of text. You must put a blank line between the end of a paragraph and the beginning of a table. "
   ]
  },
  {
   "cell_type": "markdown",
   "metadata": {},
   "source": [
    "## Style and Emphasis"
   ]
  },
  {
   "cell_type": "markdown",
   "metadata": {},
   "source": [
    "<pre>\n",
    "*Italics*\n",
    "</pre>"
   ]
  },
  {
   "cell_type": "markdown",
   "metadata": {},
   "source": [
    "*Italics*"
   ]
  },
  {
   "cell_type": "markdown",
   "metadata": {},
   "source": [
    "<pre>\n",
    "_Italics with underscores_\n",
    "</pre>"
   ]
  },
  {
   "cell_type": "markdown",
   "metadata": {},
   "source": [
    "_Italics with underscores_"
   ]
  },
  {
   "cell_type": "markdown",
   "metadata": {},
   "source": [
    "<pre>\n",
    "**Bold**\n",
    "</pre>"
   ]
  },
  {
   "cell_type": "markdown",
   "metadata": {},
   "source": [
    "**Bold**"
   ]
  },
  {
   "cell_type": "markdown",
   "metadata": {},
   "source": [
    "<pre>\n",
    "__Bold with double underscores__\n",
    "</pre>"
   ]
  },
  {
   "cell_type": "markdown",
   "metadata": {},
   "source": [
    "__Bold with double underscores__"
   ]
  },
  {
   "cell_type": "markdown",
   "metadata": {},
   "source": [
    "**Note:** If you want actual asterisks or underscores to appear in your text, you can use the backslash escape function like this:"
   ]
  },
  {
   "cell_type": "markdown",
   "metadata": {},
   "source": [
    "<pre>\n",
    "\\*awesome asterisks\\* and \\_incredible under scores\\_\n",
    "</pre>"
   ]
  },
  {
   "cell_type": "markdown",
   "metadata": {},
   "source": [
    "\\*awesome asterisks\\* and \\_incredible under scores\\_"
   ]
  },
  {
   "cell_type": "markdown",
   "metadata": {},
   "source": [
    "## Including Code Examples"
   ]
  },
  {
   "cell_type": "markdown",
   "metadata": {},
   "source": [
    "If you want to signify that a particular section of text is actually an example of code, you can use backquotes to surround the code example. These will switch the font to monospace, which creates a clear visual formatting difference between the text that is meant to be code and the text that isn't. \n",
    "\n",
    "Code can either in the middle of a paragraph, or as a block. Use a single backquote to start and stop code in the middle of a paragraph. Here's an example:"
   ]
  },
  {
   "cell_type": "markdown",
   "metadata": {},
   "source": [
    "<pre>\n",
    "The word `monospace` will appear in a code-like form.\n",
    "</pre>"
   ]
  },
  {
   "cell_type": "markdown",
   "metadata": {},
   "source": [
    "The word `monospace` will appear in a code-like form."
   ]
  },
  {
   "cell_type": "markdown",
   "metadata": {},
   "source": [
    "To include a complete code-block inside a Markdown cell, use triple backquotes. Optionally, you can put the name of the language that you are quoting after the starting triple backquotes, like this:"
   ]
  },
  {
   "cell_type": "markdown",
   "metadata": {},
   "source": [
    "<pre>\n",
    "```python\n",
    "def function(n):\n",
    "    return n + 1\n",
    "```\n",
    "</pre>"
   ]
  },
  {
   "cell_type": "markdown",
   "metadata": {},
   "source": [
    "That will format the code-block (sometimes called \"fenced code\") with syntax coloring. The above code block will be rendered like this:"
   ]
  },
  {
   "cell_type": "markdown",
   "metadata": {},
   "source": [
    "```python\n",
    "def function(n):\n",
    "    return n + 1\n",
    "```"
   ]
  },
  {
   "cell_type": "markdown",
   "metadata": {},
   "source": [
    "The language formatting names that you can currently use after the triple backquote are:"
   ]
  },
  {
   "cell_type": "markdown",
   "metadata": {},
   "source": [
    "<pre>\n",
    "apl           django   go            jinja2      ntriples    q       smalltalk    toml\n",
    "asterisk      dtd      groovy        julia       octave      r       smarty       turtle\n",
    "clike         dylan    haml          less        pascal      rpm     smartymixed  vb\n",
    "clojure       ecl      haskell       livescript  pegjs       rst     solr         vbscript\n",
    "cobol         eiffel   haxe          lua         perl        ruby    sparql       velocity\n",
    "coffeescript  erlang   htmlembedded  markdown    php         rust    sql          verilog\n",
    "commonlisp    fortran  htmlmixed                 pig         sass    stex         xml\n",
    "css           gas      http          mirc        properties  scheme  tcl          xquery\n",
    "d             gfm      jade          mllike      puppet      shell   tiddlywiki   yaml\n",
    "diff          gherkin  javascript    nginx       python      sieve   tiki         z80\n",
    "</pre>"
   ]
  },
  {
   "cell_type": "markdown",
   "metadata": {},
   "source": [
    "## Images"
   ]
  },
  {
   "cell_type": "markdown",
   "metadata": {},
   "source": [
    "### Images from the Internet"
   ]
  },
  {
   "cell_type": "markdown",
   "metadata": {},
   "source": [
    "Inserting an image from the internet is almost identical to inserting a link. You just also type a **`!`** before the first set of brackets:"
   ]
  },
  {
   "cell_type": "markdown",
   "metadata": {},
   "source": [
    "<pre>\n",
    "![Type anything here](http://www.glowscript.org/docs/GlowScriptDocs/images/cover.jpg \"GlowScript Program\")\n",
    "</pre>"
   ]
  },
  {
   "cell_type": "markdown",
   "metadata": {},
   "source": [
    "![Type anything here](http://www.glowscript.org/docs/GlowScriptDocs/images/cover.jpg \"GlowScript Program\")"
   ]
  },
  {
   "cell_type": "markdown",
   "metadata": {},
   "source": [
    "**Note:** The words that you type in the first set of brackets do not appear when they are rendered into html by Markdown. The words within quotes will appear when you hover and pause over the image with your mouse."
   ]
  },
  {
   "cell_type": "markdown",
   "metadata": {},
   "source": [
    "### Inserting an image from a file"
   ]
  },
  {
   "cell_type": "markdown",
   "metadata": {},
   "source": [
    "If an image is a file, then include the path to the file. If the image is in the same folder as the notebook, then simply use the name of the image."
   ]
  },
  {
   "cell_type": "markdown",
   "metadata": {},
   "source": [
    "<pre>\n",
    "![Type anything here](01-files/triangle.png \"Image found at glowscript.org\")\n",
    "</pre>"
   ]
  },
  {
   "cell_type": "markdown",
   "metadata": {},
   "source": [
    "![Type anything here](01-files/triangle.png \"Image found at glowscript.org\")"
   ]
  },
  {
   "cell_type": "markdown",
   "metadata": {},
   "source": [
    "### Setting the width of an image"
   ]
  },
  {
   "cell_type": "markdown",
   "metadata": {},
   "source": [
    "That image is huge!  If you want to make it smaller, then use a HTML tag and set the width of the image. (The height will be determined automatically to maintain the same scale.)\n",
    "\n",
    "```html\n",
    "<img src=\"01-files/triangle.png\" width=200>\n",
    "```"
   ]
  },
  {
   "cell_type": "markdown",
   "metadata": {},
   "source": [
    "<img src=\"01-files/triangle.png\" width=200>\n"
   ]
  },
  {
   "cell_type": "markdown",
   "metadata": {},
   "source": [
    "## LaTeX for Mathematical Typesetting"
   ]
  },
  {
   "cell_type": "markdown",
   "metadata": {},
   "source": [
    "Jupyter Notebooks' Markdown cells support LaTeX for formatting mathematical equations. To tell Markdown to interpret your text as LaTeX, surround your input with dollar signs like this:"
   ]
  },
  {
   "cell_type": "markdown",
   "metadata": {},
   "source": [
    "<pre>\n",
    "$z=\\dfrac{2x}{3y}$\n",
    "</pre>"
   ]
  },
  {
   "cell_type": "markdown",
   "metadata": {},
   "source": [
    "$z=\\dfrac{2x}{3y}$"
   ]
  },
  {
   "cell_type": "markdown",
   "metadata": {},
   "source": [
    "An equation can be very complex:\n",
    "\n",
    "<pre>\n",
    "$$F(k) = \\int_{-\\infty}^{\\infty} f(x) e^{2\\pi i k} dx$$\n",
    "</pre>"
   ]
  },
  {
   "cell_type": "markdown",
   "metadata": {},
   "source": [
    "$$F(k) = \\int_{-\\infty}^{\\infty} f(x) e^{2\\pi i k} dx$$"
   ]
  },
  {
   "cell_type": "markdown",
   "metadata": {},
   "source": [
    "If you want your LaTex equations to be indented towards the center of the cell, surround your input with two dollar signs on each side like this: "
   ]
  },
  {
   "cell_type": "markdown",
   "metadata": {},
   "source": [
    "<pre>\n",
    "$$2x+3y=z$$\n",
    "</pre>"
   ]
  },
  {
   "cell_type": "markdown",
   "metadata": {},
   "source": [
    "$$2x+3y=z$$"
   ]
  },
  {
   "cell_type": "markdown",
   "metadata": {},
   "source": [
    "For a comprehensive guide to the mathematical symbols and notations supported by Jupyter Notebooks' Markdown cells, check out [Martin Keefe's helpful reference materials on the subject][mkeefe].\n",
    "\n",
    "[mkeefe]: http://martinkeefe.com/math/mathjax1 \"Martin Keefe's MathJax Guide\""
   ]
  },
  {
   "cell_type": "code",
   "execution_count": null,
   "metadata": {
    "collapsed": true
   },
   "outputs": [],
   "source": []
  }
 ],
 "metadata": {
  "kernelspec": {
   "display_name": "Python 3",
   "language": "python",
   "name": "python3"
  },
  "language_info": {
   "codemirror_mode": {
    "name": "ipython",
    "version": 3
   },
   "file_extension": ".py",
   "mimetype": "text/x-python",
   "name": "python",
   "nbconvert_exporter": "python",
   "pygments_lexer": "ipython3",
   "version": "3.6.7"
  },
  "toc": {
   "toc_cell": false,
   "toc_number_sections": true,
   "toc_section_display": "block",
   "toc_threshold": 6,
   "toc_window_display": true
  },
  "toc_position": {
   "height": "230px",
   "left": "935.172px",
   "right": "20px",
   "top": "120px",
   "width": "418px"
  }
 },
 "nbformat": 4,
 "nbformat_minor": 1
}
