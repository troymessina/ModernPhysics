{
 "cells": [
  {
   "cell_type": "code",
   "execution_count": null,
   "id": "f2ce6de6",
   "metadata": {},
   "outputs": [],
   "source": [
    "import numpy as np\n",
    "import matplotlib.pyplot as plt\n",
    "import pandas as pd\n",
    "from scipy.signal import find_peaks"
   ]
  },
  {
   "cell_type": "markdown",
   "id": "01ae7fe7",
   "metadata": {},
   "source": [
    "# <font color=\"red\">Replace the word \"template\" with your name in the filename and remove this red label.</font>\n",
    "<font color=\"red\">I have left explanations in the markdown to assist you. In your submitted report, you should erase my markdown text and replace it with descriptions of your own that show your understanding.</font>\n",
    "\n",
    "# Atomic Spectroscopy and the Bohr Model\n",
    "by Student\n",
    "\n",
    "## Introduction\n",
    "Rydberg came up with an empirical model light emitted from atoms that he did not understand. Bohr came up with a model of electrons in circular orbits behaving as standing waves. This solved the problem of quantized orbits, but the model is wrong since we now know the orbits are circles and follow probabilistic models instead.\n",
    "\n",
    "## The Bohr Model\n",
    "Here's a good reference for helping you describe the model in words and math.\n",
    "http://hyperphysics.phy-astr.gsu.edu/hbase/Bohr.html#c4\n",
    "\n",
    "## Experimental\n",
    "* How does the spectroscope work?\n",
    "    * Interference using a diffraction grating\n",
    "* Show a diagram with labels\n",
    "* What will you vary/measure? What will you calculate?\n",
    "\n",
    "## Results\n"
   ]
  },
  {
   "cell_type": "code",
   "execution_count": null,
   "id": "5f871317",
   "metadata": {},
   "outputs": [],
   "source": [
    "H_theta = np.array([blue, blue-green, red])\n",
    "H_wavelengths = #calculate from interference conditions for the angles above\n",
    "#Uncertainty?"
   ]
  },
  {
   "cell_type": "markdown",
   "id": "d5e5d905",
   "metadata": {},
   "source": [
    "The Pasco USB spectrometer will save files as csv or Excel. These can be read into Jupyter with Pandas. Make sure the file has the format\n",
    "\n",
    "| Wavelength (nm) | Intensity |\n",
    "|-----------------|-----------|\n",
    "|      380        |    0.00   |\n",
    "|      ...        |    ...    |\n",
    "|      900        |    0.00   |\n",
    "\n",
    "You may need to replace `excel` below with `csv` depending on the file type from the spectrometer."
   ]
  },
  {
   "cell_type": "code",
   "execution_count": null,
   "id": "fe586c30",
   "metadata": {},
   "outputs": [],
   "source": [
    "#Read and check the data file from the spectrometer\n",
    "H_spectrum = pd.read_excel('filename')\n",
    "H_spectrum.head()"
   ]
  },
  {
   "cell_type": "markdown",
   "id": "db2e7b55",
   "metadata": {},
   "source": [
    "Find the wavelengths that hydrogen emits light by using a peak finder algorithm. You will need to adjust `height` (how tall is the shortest peak) and `distance` (minimum number of data points between peaks)."
   ]
  },
  {
   "cell_type": "code",
   "execution_count": null,
   "id": "f3bbdb0e",
   "metadata": {},
   "outputs": [],
   "source": [
    "maxlocs, _ = find_peaks(H_spectrum['Intensity'], height=1.0, distance=1) #find maxima\n",
    "#Create x and y lists for the peaks found\n",
    "peaks = np.array(H_spectrum['Intensity'].iloc[maxlocs]) #get the peak heights\n",
    "peaksx = np.array(H_spectrum['Wavelength (nm)'].iloc[maxlocs]) #get the peak wavelengths\n",
    "print(len(peaksx)) #print to see what you get"
   ]
  },
  {
   "cell_type": "markdown",
   "id": "ddf21e41",
   "metadata": {},
   "source": [
    "Make a graph to see if you found the peaks properly. If not go back to the cell above and try again. Once the peaks are found correctly, the print statement above gives the wavelengths for comparing to the manual spectrometer data."
   ]
  },
  {
   "cell_type": "code",
   "execution_count": null,
   "id": "2ff19e0b",
   "metadata": {},
   "outputs": [],
   "source": [
    "#Plot the spectrum\n",
    "plt.plot(H_spectrum['Wavelength (nm)'], H_spectrum['Intensity'], '-k', label=\"Hydrogen\")\n",
    "#plot the peaks\n",
    "plt.plot(peaksx, peaks, 'ob')\n",
    "plt.xlabel('Wavelength (nm)')\n",
    "plt.ylabel('Intensity')\n",
    "plt.legend()\n",
    "plt.show()"
   ]
  },
  {
   "cell_type": "markdown",
   "id": "eafb1850",
   "metadata": {},
   "source": [
    "You could make a graph with the manual spectrometer data replacing the peaks found to compare one measurement to another.\n",
    "\n",
    "## Conclusions"
   ]
  },
  {
   "cell_type": "code",
   "execution_count": null,
   "id": "f43eef90",
   "metadata": {},
   "outputs": [],
   "source": []
  }
 ],
 "metadata": {
  "kernelspec": {
   "display_name": "Python 3 (ipykernel)",
   "language": "python",
   "name": "python3"
  },
  "language_info": {
   "codemirror_mode": {
    "name": "ipython",
    "version": 3
   },
   "file_extension": ".py",
   "mimetype": "text/x-python",
   "name": "python",
   "nbconvert_exporter": "python",
   "pygments_lexer": "ipython3",
   "version": "3.8.13"
  }
 },
 "nbformat": 4,
 "nbformat_minor": 5
}
