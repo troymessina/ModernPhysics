{
 "cells": [
  {
   "cell_type": "code",
   "execution_count": 1,
   "id": "e63d18a3",
   "metadata": {},
   "outputs": [],
   "source": [
    "#imports\n",
    "import numpy as np\n",
    "import matplotlib.pyplot as plt\n",
    "import pandas as pd\n",
    "from scipy.signal import find_peaks"
   ]
  },
  {
   "cell_type": "markdown",
   "id": "d1d06ba7",
   "metadata": {},
   "source": [
    "# <font color=\"red\">Replace the word \"template\" with your name in the filename and remove this label.</font>\n",
    "<font color=\"red\">This lab is more challenging to analyze than others. I have left explanations in the markdown to assist you. In your submitted report, you should erase my markdown text and replace it with descriptions of your own that show your understanding.</font>\n",
    "# Franck-Hertz Experiment\n",
    "by Student\n",
    "\n",
    "## Introduction\n",
    "### Historical\n",
    "How did this experiment demonstrate a quantum phenomenon?\n",
    "\n",
    "## Experimental\n",
    "* Describe how the apparatus works and what you do to control it.\n",
    "    * A diagram is crucial.\n",
    "    * There are a lot of electrical connections.\n",
    "        * What does each one do?\n",
    "    * There are a lot of knobs.\n",
    "        * What does each one do? For example, why is there an accelerating AND decelerating voltage?\n",
    "        \n",
    "## Data and Analysis\n",
    "We will be loading files from the oscilloscope using Pandas. These files are csv, but you need to prepare them for being read into Jupyter. The file should be two columns as shown below, where x1, x2, ... are the accelerating voltages divided by 10. y1, y2, ... are the y voltages corresponding to electron current.\n",
    "\n",
    "|x_voltage|y_voltage|\n",
    "|---------|---------|\n",
    "|    x1   |   y1    |\n",
    "|    x2   |   y2    |\n",
    "|    x1   |   y3    |\n",
    "|    x4   |   y4    |\n",
    "|   ...   |   ...   |\n",
    "|    xN   |   yN    |\n",
    "\n",
    "Below, I show you how to read your csv file and print to see that it was read properly."
   ]
  },
  {
   "cell_type": "code",
   "execution_count": 11,
   "id": "1258c526",
   "metadata": {},
   "outputs": [
    {
     "data": {
      "text/html": [
       "<div>\n",
       "<style scoped>\n",
       "    .dataframe tbody tr th:only-of-type {\n",
       "        vertical-align: middle;\n",
       "    }\n",
       "\n",
       "    .dataframe tbody tr th {\n",
       "        vertical-align: top;\n",
       "    }\n",
       "\n",
       "    .dataframe thead th {\n",
       "        text-align: right;\n",
       "    }\n",
       "</style>\n",
       "<table border=\"1\" class=\"dataframe\">\n",
       "  <thead>\n",
       "    <tr style=\"text-align: right;\">\n",
       "      <th></th>\n",
       "      <th>x_voltage</th>\n",
       "      <th>y_voltage</th>\n",
       "    </tr>\n",
       "  </thead>\n",
       "  <tbody>\n",
       "    <tr>\n",
       "      <th>0</th>\n",
       "      <td>0.395781</td>\n",
       "      <td>0.28</td>\n",
       "    </tr>\n",
       "    <tr>\n",
       "      <th>1</th>\n",
       "      <td>0.398535</td>\n",
       "      <td>0.28</td>\n",
       "    </tr>\n",
       "    <tr>\n",
       "      <th>2</th>\n",
       "      <td>0.401304</td>\n",
       "      <td>0.32</td>\n",
       "    </tr>\n",
       "    <tr>\n",
       "      <th>3</th>\n",
       "      <td>0.404088</td>\n",
       "      <td>0.40</td>\n",
       "    </tr>\n",
       "    <tr>\n",
       "      <th>4</th>\n",
       "      <td>0.406886</td>\n",
       "      <td>0.40</td>\n",
       "    </tr>\n",
       "  </tbody>\n",
       "</table>\n",
       "</div>"
      ],
      "text/plain": [
       "   x_voltage  y_voltage\n",
       "0   0.395781       0.28\n",
       "1   0.398535       0.28\n",
       "2   0.401304       0.32\n",
       "3   0.404088       0.40\n",
       "4   0.406886       0.40"
      ]
     },
     "execution_count": 11,
     "metadata": {},
     "output_type": "execute_result"
    }
   ],
   "source": [
    "#Read the data file and print the beginning to verify\n",
    "xy_data = pd.read_csv('./FHData.csv')\n",
    "xy_data.head()# <font color=\"red\">Replace the word \"template\" with your name in the filename and remove this label.</font>"
   ]
  },
  {
   "cell_type": "markdown",
   "id": "9abdce99",
   "metadata": {},
   "source": [
    "The apparatus divides the voltage by 10 on the x-axis so that the oscilloscope can read it. We need to create a column of data with the proper x-axis values."
   ]
  },
  {
   "cell_type": "code",
   "execution_count": 13,
   "id": "ac5c5965",
   "metadata": {},
   "outputs": [
    {
     "data": {
      "text/html": [
       "<div>\n",
       "<style scoped>\n",
       "    .dataframe tbody tr th:only-of-type {\n",
       "        vertical-align: middle;\n",
       "    }\n",
       "\n",
       "    .dataframe tbody tr th {\n",
       "        vertical-align: top;\n",
       "    }\n",
       "\n",
       "    .dataframe thead th {\n",
       "        text-align: right;\n",
       "    }\n",
       "</style>\n",
       "<table border=\"1\" class=\"dataframe\">\n",
       "  <thead>\n",
       "    <tr style=\"text-align: right;\">\n",
       "      <th></th>\n",
       "      <th>x_voltage</th>\n",
       "      <th>y_voltage</th>\n",
       "      <th>x10_voltage</th>\n",
       "    </tr>\n",
       "  </thead>\n",
       "  <tbody>\n",
       "    <tr>\n",
       "      <th>0</th>\n",
       "      <td>0.395781</td>\n",
       "      <td>0.28</td>\n",
       "      <td>3.95781</td>\n",
       "    </tr>\n",
       "    <tr>\n",
       "      <th>1</th>\n",
       "      <td>0.398535</td>\n",
       "      <td>0.28</td>\n",
       "      <td>3.98535</td>\n",
       "    </tr>\n",
       "    <tr>\n",
       "      <th>2</th>\n",
       "      <td>0.401304</td>\n",
       "      <td>0.32</td>\n",
       "      <td>4.01304</td>\n",
       "    </tr>\n",
       "    <tr>\n",
       "      <th>3</th>\n",
       "      <td>0.404088</td>\n",
       "      <td>0.40</td>\n",
       "      <td>4.04088</td>\n",
       "    </tr>\n",
       "    <tr>\n",
       "      <th>4</th>\n",
       "      <td>0.406886</td>\n",
       "      <td>0.40</td>\n",
       "      <td>4.06886</td>\n",
       "    </tr>\n",
       "  </tbody>\n",
       "</table>\n",
       "</div>"
      ],
      "text/plain": [
       "   x_voltage  y_voltage  x10_voltage\n",
       "0   0.395781       0.28      3.95781\n",
       "1   0.398535       0.28      3.98535\n",
       "2   0.401304       0.32      4.01304\n",
       "3   0.404088       0.40      4.04088\n",
       "4   0.406886       0.40      4.06886"
      ]
     },
     "execution_count": 13,
     "metadata": {},
     "output_type": "execute_result"
    }
   ],
   "source": [
    "#Create a new column for the voltage x 10\n",
    "xy_data['x10_voltage'] = xy_data['x_voltage'] * 10\n",
    "xy_data.head()"
   ]
  },
  {
   "cell_type": "markdown",
   "id": "9ebbd405",
   "metadata": {},
   "source": [
    "Below is what the graph of the data looks like. You should explain it in your report. You can zoom in on the relevant portion if you wish."
   ]
  },
  {
   "cell_type": "code",
   "execution_count": 101,
   "id": "189e5bca",
   "metadata": {},
   "outputs": [
    {
     "data": {
      "image/png": "[encoded data removed]",
      "text/plain": [
       "<Figure size 432x288 with 1 Axes>"
      ]
     },
     "metadata": {
      "needs_background": "light"
     },
     "output_type": "display_data"
    }
   ],
   "source": [
    "plt.plot(xy_data['x10_voltage'], xy_data['y_voltage'], '-b')\n",
    "plt.xlabel('Accelerating Voltage')\n",
    "plt.ylabel('Current')\n",
    "#plt.xlim(25,50.2)#zoom in on the x-axis \n",
    "plt.ylim(0,6)#zoom in on the y-axis\n",
    "plt.show()"
   ]
  },
  {
   "cell_type": "markdown",
   "id": "9e5776e5",
   "metadata": {},
   "source": [
    "We can use a peak finder `scipy.signal.find_peaks`. An electron collision with mercury gas creates the excitation of a mercury atom, and the electron current drops because the electrons lose their velocity toward the anode. Since we want maxima, we will input `height` and `distance` parameters until the peaks are properly labeled on the graph as seen below. My data is for mercury, and it will be different from neon data you collect. You should understand and explain what these parameters do to help you find the maxima."
   ]
  },
  {
   "cell_type": "code",
   "execution_count": 89,
   "id": "921079f9",
   "metadata": {},
   "outputs": [
    {
     "name": "stdout",
     "output_type": "stream",
     "text": [
      "8\n"
     ]
    },
    {
     "data": {
      "image/png": "[encoded data removed]",
      "text/plain": [
       "<Figure size 432x288 with 1 Axes>"
      ]
     },
     "metadata": {
      "needs_background": "light"
     },
     "output_type": "display_data"
    }
   ],
   "source": [
    "maxlocs, _ = find_peaks(xy_data['y_voltage'], height=1.1, distance=175) #find maxima when the data is flipped\n",
    "#Create x and y lists for the peaks found\n",
    "peaks = np.array(xy_data['y_voltage'].iloc[maxlocs])\n",
    "peaksx = np.array(xy_data['x10_voltage'].iloc[maxlocs])\n",
    "print(len(peaksx))\n",
    "\n",
    "#Graph the data with the peaks that were found\n",
    "plt.plot(xy_data['x10_voltage'], xy_data['y_voltage'], '-b')\n",
    "plt.plot(peaksx, peaks, 'ok')\n",
    "plt.xlabel('Accelerating Voltage')\n",
    "plt.ylabel('Current')\n",
    "#plt.xlim(45,50.5)\n",
    "#plt.ylim(0.5,6)\n",
    "plt.show()"
   ]
  },
  {
   "cell_type": "markdown",
   "id": "f5cd5694",
   "metadata": {},
   "source": [
    "There are some extra peaks. In my case, there is 1 on the left and 2 on the right of the last peak. We want to ignore them. Since the list of peaks is 8 long, I will calculate the differences ($\\Delta V$) between maxima only for the first to sixth. I will need to add the last two $\\Delta V$ values because I have a hard time excluding the marker to the left of the last real peak. Python counts from zero. So, this range is 0 to 5. The `range` function in Python is what we call exclusive, meaning it includes the first number given and excludes the second number (range goes up to the second number minus 1). Examples of inclusive and exclusive ranges.\n",
    "\n",
    "```python\n",
    "range(1,11)\n",
    "1 through 10 (inclusive)\n",
    "1 2 3 4 5 6 7 8 9 10\n",
    "\n",
    "range(1, 10)\n",
    "1 through 10 (exclusive)\n",
    "1 2 3 4 5 6 7 8 9\n",
    "```"
   ]
  },
  {
   "cell_type": "code",
   "execution_count": 91,
   "id": "332f8eea",
   "metadata": {},
   "outputs": [
    {
     "name": "stdout",
     "output_type": "stream",
     "text": [
      "4.940599999999996\n",
      "4.680800000000005\n",
      "4.9683999999999955\n",
      "3.3806999999999974\n",
      "1.1711000000000098\n"
     ]
    }
   ],
   "source": [
    "for ii in range(0, 5): #go through the list by index\n",
    "    if ii < len(peaksx)-1: #only go up to the second to last one because of the way we are subtracting\n",
    "        print(peaksx[ii+1]-peaksx[ii]) #print the difference between the next peak voltage and the current peak voltage"
   ]
  },
  {
   "cell_type": "markdown",
   "id": "193f32c7",
   "metadata": {},
   "source": [
    "This gives me $\\Delta V$ values of 4.94, 4.68, 4.97, and 4.55 V. For mercury, the electronic transition is expected to be 4.9 V. You are measuring neon and will expect a different value. Now, I will make a list of these voltages so I can calculate statistics (mean and standard error) on them."
   ]
  },
  {
   "cell_type": "code",
   "execution_count": 114,
   "id": "33ad0117",
   "metadata": {},
   "outputs": [
    {
     "data": {
      "text/markdown": [
       "The mean $\\Delta V$ is 4.8 $\\pm$ 0.1 Volts"
      ],
      "text/plain": [
       "<IPython.core.display.Markdown object>"
      ]
     },
     "execution_count": 114,
     "metadata": {},
     "output_type": "execute_result"
    }
   ],
   "source": [
    "results = np.array([4.94, 4.68, 4.97, 4.55])\n",
    "mean = np.mean(results)\n",
    "sdm = np.std(results)/np.sqrt(4)\n",
    "#print(np.around(mean, decimals=1), '+/-', np.around(sdm, decimals=1))\n",
    "from IPython.display import Markdown as md\n",
    "md(\"The mean $\\Delta V$ is %.1f $\\pm$ %.1f Volts\"%(mean,sdm))"
   ]
  },
  {
   "cell_type": "markdown",
   "id": "2e9b1ed1",
   "metadata": {},
   "source": [
    "## Conclusions"
   ]
  },
  {
   "cell_type": "code",
   "execution_count": null,
   "id": "ad784802",
   "metadata": {},
   "outputs": [],
   "source": []
  }
 ],
 "metadata": {
  "kernelspec": {
   "display_name": "Python 3 (ipykernel)",
   "language": "python",
   "name": "python3"
  },
  "language_info": {
   "codemirror_mode": {
    "name": "ipython",
    "version": 3
   },
   "file_extension": ".py",
   "mimetype": "text/x-python",
   "name": "python",
   "nbconvert_exporter": "python",
   "pygments_lexer": "ipython3",
   "version": "3.8.13"
  }
 },
 "nbformat": 4,
 "nbformat_minor": 5
}
