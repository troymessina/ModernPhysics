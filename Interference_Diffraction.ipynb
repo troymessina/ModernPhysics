{
 "cells": [
  {
   "cell_type": "markdown",
   "id": "2c9f44da",
   "metadata": {},
   "source": [
    "# Interference and Diffraction\n",
    "\n",
    "## Objectives\n",
    "\n",
    "1.\tTo explore the diffraction of light through a variety of apertures \n",
    "\n",
    "2.\tTo learn how interference can be used to measure small distances very accurately. By example we will measure the wavelength of the laser, the spacing between tracks on a CD and the thickness of human hair \n",
    "\n",
    "## Introduction\n",
    "\n",
    "Electromagnetic radiation propagates as a wave, and as such can exhibit interference and diffraction. This is most strikingly seen with laser light, where light shining on a piece of paper looks speckled (with light and dark spots) rather than evenly illuminated, and where light shining through a small hole makes a pattern of bright and dark spots rather than the single spot you might expect from your everyday experiences with light. In this lab we will use laser light to investigate the phenomena of interference and diffraction and will see how we can use these phenomena to make accurate measurements of very small objects like the spacing between tracks on a CD and the thickness of human hair.\n",
    "\n",
    "### The Details: Interference\n",
    "Figure 1 below forms the basis of all the phenomena you will observe in the lab.  Two different waves arrive at a single position in space (at the screen). If they are in phase then they add constructively and you see a bright spot.  If they are out of phase then they add destructively and you see nothing (dark spot). The key to creating interference is creating phase shift between two waves that are then brought together at a single position. A common way to do that is to add extra path length to one of the waves relative to the other.\n",
    "\n",
    "\n",
    "![Interference Diagram](./images/interference.png)\n",
    "<center>Figure 1. Diagram of wave interference.</center>\n",
    "\n",
    "In this lab the distance traveled from source to screen, and hence the relative phase of incoming waves, changes as a function of lateral position on the screen, creating a visual interference pattern. \n",
    "\n",
    "### Two Slit Interference\n",
    "The first phenomenon we consider is two slit interference. Light from the laser hits two very narrow slits, which then act like in- phase point sources of light. In traveling from the slits to the screen, however, the light from the two slits travel different distances. In Fig. 2 light hitting point P from the bottom slit travels further than the light from the top slit. This extra path length introduces a phase shift between the two waves and leads to a position dependent interference pattern on the screen.\n",
    "\n",
    "<center>\n",
    "<img src=\"./images/interference_geometry.jpg\" alt=\"Interference Geometry Diagram\" width=\"300\"><br>\n",
    "Figure 2. Geometric analysis diagram of wave interference.</center>\n",
    "Here the extra path length is $\\delta=d\\sin\\theta$, leading to a phase shift $\\phi$ given by\n",
    "\n",
    "$$\\frac{\\delta}{\\lambda} = \\frac{\\phi}{2\\pi}$$\n",
    "\n",
    "Realizing that phase shifts that are multiples of $2\\pi$ give us constructive interference while odd multiples of $\\pi$ lead to destructive interference leads to the following conditions: Maxima:  $d \\sin\\theta=m\\lambda$; Minima: $d \\sin\\theta=(m+1/2)\\lambda$. The variable $m$ is an integer that indicates the number of maxima away from the central or principle maximum.\n",
    "\n",
    "Typically, the distance to the screen $L$ is very large compared to the separation of maxima or minima $y$ or $\\Delta y$. When this is true, $\\theta$ is small and $r\\approx L$.\n",
    "\n",
    "$$\\sin\\theta = \\frac{y}{r} \\approx \\frac{y}{L}$$\n",
    "\n",
    "Therefore, we can write that the maxima condition is\n",
    "\n",
    "$$d\\frac{y}{L}\\approx m\\lambda$$\n",
    "\n",
    "or \n",
    "\n",
    "$$d\\frac{\\Delta y}{L} \\approx \\lambda$$\n",
    "\n",
    "### Multiple Slit Interference\n",
    "If instead of two identical slits separated by a distance $d$ there are multiple identical slits, each separated by a distance $d$, the same effect happens. For example, at all angles $\\theta$ satisfying $d \\sin\\theta=m\\lambda$ we find constructive interference, now from all of the holes. The difference in the resulting interference pattern lies in those regions that are neither maxima or minima but rather in between. Here, because more incoming waves are available to interfere, the interference becomes more destructive, making the minima appear broader and the maxima sharper. This explains the appearance of a brilliant array of colors that change as a function of angle when looking at a CD or DVD. A CD has a large number of small grooves, each reflecting light and becoming a new source like a small slit. For a given angle, a distinct set of wavelengths will form constructive maxima when the reflected light reaches your eyes.\n",
    "\n",
    "### Diffraction\n",
    "\n",
    "The next kind of interference we consider is light going through a single slit, interfering with itself. This is called diffraction, and arises from the finite width of the slit ($a$ in Figure 3). The resultant effect is not nearly as easy to derive as that from two-slit interference (which, as you can see from above, is straight-forward). The result for the angular locations of the **minima** are\n",
    "\n",
    "$$a\\sin\\theta = m\\lambda$$\n",
    "\n",
    "<center><img src=\"./images/diffraction_geometry.jpg\" alt=\"Diffraction Geometry Diagram\" width=\"200\">\n",
    "Figure 3. Geometric analysis diagram of diffraction.</center>\n",
    "\n",
    "#### Putting it Together\n",
    "If you have two wide slits, that is, slits that exhibit both diffraction and interference, the pattern observed on a distant screen is as follows in Fig. 4.\n",
    "\n",
    "![Interference and Diffraction Diagram](./images/interference_diffraction.jpg)\n",
    "<center>Figure 4. Interference from two slits and diffraction from each slit combined.</center>\n",
    "\n",
    "Here the amplitude modulation (the red envelope) is set by the diffraction (the width of the slits), while the “individual wiggles” are due to the interference between the light coming from the two different slits. You know that this must be the case because d must be larger than $a$, and hence the minima locations, which go like $1/d$, are closer together for the two slit pattern than for the single slit pattern.\n",
    "\n",
    "#### The Opposite of a Slit: Babinet’s Principle\n",
    "\n",
    "So far we have discussed sending light through very narrow slits or reflecting it off of small grooves, in each case creating a series of point-like “new sources” of light that can then go on and interfere. Rather amazingly, light hitting a small solid object, like a piece of hair, creates the same interference pattern as if the object were replaced with a hole of the same dimensions. \n",
    "\n",
    "This idea is Babinet’s Principle, and the reason behind it is summed up by Fig. 5. \n",
    "\n",
    "<center><img src=\"./images/babinet.png\" alt=\"Babinet's Principle Diagram\" width=\"400\"/><br>\n",
    "Figure 5. A diagram of Babinet's Principle.</center>\n",
    "\n",
    "If you add an object to a hole of the same size, you get a filled hole. EM waves hitting those objects must add in the same fashion, that is, the electric fields produced when light hits the hole, when added to the electric fields produced by the small object, must add to the electric fields produced when light hits the filled hole. Since no light can get through the filled hole, Ehole + Eobject = 0. Thus, we find that the electric fields coming out of the hole are equal and opposite to the electric fields diffracting off of the small object. Since the observed interference pattern depends on intensity, the square of the electric field, the hole and the object will generate identical diffraction patterns. By measuring properties of the diffraction pattern we can thus measure the width of the small object. In this lab the small object will be a piece of your hair. \n",
    " \n",
    "\n",
    "## General Procedure\n",
    "In this lab you will shine the light through slits, across hairs or off of CDs and make measurements of the resulting interference pattern.\n",
    "\n",
    "### Part 1: Laser Wavelength\n",
    "In this part you will measure the wavelength $\\lambda$ of the laser using the two narrow double slits, and making the measurements that you determine are necessary. Figure 6 shows how to read the plate.\n",
    "\n",
    "<center><img src=\"./images/CalDiffractionPlate.png\" alt=\"Glass plate with various diffraction slits\" width=\"500\"/><br>\n",
    "Figure 6. An image of the plate used to make diffraction and interference patterns.</center>\n",
    "\n",
    "#### Exploration\n",
    "Figure 7 shows the viewing screen in a double slit experiments.\n",
    "\n",
    "<center><img src=\"./images/Doubleslit0.jpg\" alt=\"Schematic of the arrangement for experiments\" width=\"400\"/><br>\n",
    "Figure 7. Experimental arrangement.</center>\n",
    "\n",
    "For the following scenarios, refer the equation\n",
    "\n",
    "$$d\\sin\\theta = m\\lambda$$\n",
    "\n",
    "Will the fringe spacing increase or decrease or stay the same? Give an explanation for each."
   ]
  },
  {
   "cell_type": "markdown",
   "id": "536c6ac1",
   "metadata": {},
   "source": [
    "* The distance to the screen is increased: <font color=\"red\">Double-click and enter your answers making them red</font>\n",
    "* The spacing between the slits is increased:\n",
    "* The wavelength of the light is increased:\n",
    "* The distance between the laser and the slits is increased:"
   ]
  },
  {
   "cell_type": "markdown",
   "id": "a376a03d",
   "metadata": {},
   "source": [
    "#### Measurements\n",
    "1. Place the double slit slide in the slide holder and align so that light from the laser goes through slit pattern (222). The distance between the slits is $0.176~{\\rm mm}$. \n",
    "2. Turn the red laser on  \n",
    "3. Place a screen (dry erase board or sheet of paper) several meters away from the glass slide.\n",
    "3. Mark the locations of the intensity maxima (bright spots). If they are too close to measure individually, move the screen further away or mark of a set of them and determine the average spacing. \n",
    "\n",
    "#### Questions\n",
    "Use the code cell below to answer the following questions.\n",
    "1. What distance between the glass slide and the screen did you use? What was the average distance $\\Delta y$ between maxima?\n",
    "2. Using $d=\\lambda L/\\Delta y$ what do you calculate to be the wavelength of the laser light? Does this make sense? Explain here in <font color=\"red\">red</font>."
   ]
  },
  {
   "cell_type": "code",
   "execution_count": null,
   "id": "2aed223d",
   "metadata": {},
   "outputs": [],
   "source": [
    "\n",
    "Do your calculations here\n",
    "L = #distance from double slit to screen\n",
    "Deltay = #distance between interference maxima\n",
    "lambda_red = #calculated laser wavelength\n",
    "print(\"red wavelength = \", lambda_red, \"m\")"
   ]
  },
  {
   "cell_type": "markdown",
   "id": "48035fa1",
   "metadata": {},
   "source": [
    "### Part 2: Diffraction from a CD\n",
    "You will measure the width of tracks on a CD and/or DVD by reflecting laser light off of it and measuring the resulting diffraction pattern. You will measure the resulting interference pattern on a screen a distance $L\\approx 5-50$ cm away. The table top works well. Rearrange the interference equation for calculating the width $d$ of the tracks from your measurement of the distance $\\Delta y$ between interference maxima.\n",
    "1. Place a CD above the table so that its distance $L$ can be measured easily and the laser can be reflected off of it onto the table top. Light will reflect off the CD, and land on the screen. \n",
    "2. Turn on the laser and measure the distance between interference maxima. \n",
    "3. Use the code cell below to calculate the track spacing. Does the result make sense? Why are they that size?\n",
    "4. Search online for the known value of the track spacing and an image to include showing the tracks. Answer your question here in <font color=\"red\">red</font>, and include the image below in this markdown cell."
   ]
  },
  {
   "cell_type": "code",
   "execution_count": null,
   "id": "7e2cd063",
   "metadata": {},
   "outputs": [],
   "source": [
    "#Do your calculations here\n",
    "L =\n",
    "DeltayCD = #use the known laser wavelength\n",
    "print(\"track spacing = \", , \"m\")"
   ]
  },
  {
   "cell_type": "markdown",
   "id": "f99e73d9",
   "metadata": {},
   "source": [
    "### Part 3: Thickness of Human Hair\n",
    "Next you will discover the ability to measure the size of small objects using diffraction, by measuring the width of a human hair. This is where Babinet's Principle comes in handy.\n",
    "1. Tape a single hair vertically.\n",
    "2. Shine the laser on the hair, and adjust the distance between the hair and the screen so that you obtain a useable diffraction pattern. \n",
    "3. Use the code cell below to calculate and print the thickness of the hair that you measure? Be sure to format the printing like above so we know what is being printed. Does this seem reasonable? Explain here in <font color=\"red\">red</font>."
   ]
  },
  {
   "cell_type": "code",
   "execution_count": null,
   "id": "1aa80cf9",
   "metadata": {},
   "outputs": [],
   "source": []
  },
  {
   "cell_type": "markdown",
   "id": "2d207253",
   "metadata": {},
   "source": [
    "## Further Questions\n",
    "Answer each of the following questions in <font color=\"red\">red</font>\n",
    "\n",
    "1. Instead of measuring the wavelength of light from the two slit patterns, you could have instead used single slits. Would that have been more or less accurate? Why? Try it and see.\n",
    "2. Where does most of the measurement error come from for the measurement of the wavelength of light? How would you improve this in future labs? Use the code cell below to calculate the uncertainty in the laser wavelength. \n",
    "3. If we redid these experiments with a green laser instead of red, what changes would you have needed to make? Would it have affected the accuracy of the measurements? Try it and see.\n",
    "4. Does the track width change as a function of location on the CD? If so, is it larger or smaller near the outside? \n",
    "5. What is the ratio of the track size to the wavelength of the light that you used (which is very similar to the wavelength of light used in commercial players)?\n",
    "\n",
    "### Answer below\n",
    "1. \n"
   ]
  },
  {
   "cell_type": "code",
   "execution_count": null,
   "id": "05fb613c",
   "metadata": {},
   "outputs": [],
   "source": []
  },
  {
   "cell_type": "markdown",
   "id": "eaee212f",
   "metadata": {},
   "source": [
    "### Turning in your work\n",
    "If you haven't already, install `nbconvert` so that you can save pdf files from Jupyter. To do this, open the Anaconda Prompt as Administrator and enter the line\n",
    "\n",
    "`conda install -c anaconda nbconvert`\n",
    "\n",
    "Then, install\n",
    "\n",
    "`conda install -c conda-forge nbconvert-webpdf`\n",
    "\n",
    "If you use Chrome you may also need\n",
    "\n",
    "```conda install -c conda-forge pyppeteer```\n",
    "\n",
    "or\n",
    "\n",
    "```pip install pyppeteer```\n",
    "\n",
    "You will only need to do this once. From now on, you can save your Jupyter notebook. Call your instructor over to help you export your file using\n",
    "\n",
    "```jupyter nbconvert --to webpdf --allow-chromium-download Untitled.ipynb```"
   ]
  },
  {
   "cell_type": "code",
   "execution_count": null,
   "id": "70ab1fd1",
   "metadata": {},
   "outputs": [],
   "source": []
  }
 ],
 "metadata": {
  "kernelspec": {
   "display_name": "Python 3 (ipykernel)",
   "language": "python",
   "name": "python3"
  },
  "language_info": {
   "codemirror_mode": {
    "name": "ipython",
    "version": 3
   },
   "file_extension": ".py",
   "mimetype": "text/x-python",
   "name": "python",
   "nbconvert_exporter": "python",
   "pygments_lexer": "ipython3",
   "version": "3.9.13"
  }
 },
 "nbformat": 4,
 "nbformat_minor": 5
}
