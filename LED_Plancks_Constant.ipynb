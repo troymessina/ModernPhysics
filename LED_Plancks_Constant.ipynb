{
 "cells": [
  {
   "cell_type": "markdown",
   "metadata": {},
   "source": [
    "- - - -\n",
    "# LED Electrical Characteristics Dependence on LED Color\n",
    "\n",
    "- - - -\n",
    "\n",
    "Troy Messina @ Berea College\n",
    "\n",
    "- - - -\n",
    "\n",
    "**1) Load Current-Voltage (I-V) Data**    \n",
    "**2) Plot Data**  \n",
    "**3) Curve Fitting**  \n",
    "\n",
    "- - - -\n",
    "\n",
    "We have used an Adafruit M4 Feather to collect voltage data on an LED-resistor voltage divider circuit. Now we will look at how  forward-biased voltage and current depends on the color of the LED. In the end, we will be able to calculate the wavelength of the LED by assuming some physical constants have particular values."
   ]
  },
  {
   "cell_type": "code",
   "execution_count": null,
   "metadata": {},
   "outputs": [],
   "source": [
    "# import modules\n",
    "import pandas as pd\n",
    "import numpy as np\n",
    "from numpy import array, arange, pi, exp, sin, cos, polyfit, poly1d, linspace, zeros, flipud, sqrt\n",
    "import matplotlib.pyplot as plt\n",
    "from matplotlib.pyplot import *\n",
    "import scipy\n",
    "from scipy.optimize import curve_fit\n",
    "from scipy.optimize import fmin\n",
    "%matplotlib inline\n",
    "import matplotlib as mpl\n",
    "mpl.rcParams['figure.figsize'] = (12,8)\n",
    "mpl.rcParams['font.size'] = 14\n",
    "mpl.rcParams['legend.fontsize'] = 14"
   ]
  },
  {
   "cell_type": "markdown",
   "metadata": {},
   "source": [
    "We need to be a bit more careful about loading data into Jupyter because we need to load four different data sets for the four LEDS red, yellow, green, and blue. Place your Excel file in the same directory where you save this Jupyter file.\n",
    "\n",
    "We will use Pandas to load Excel data. The code below creates what is known as a Pandas dataframe that stores the Excel data. The command to read Excel files is ``pd.read_excel``. It takes arguments that are the filename, the sheet name, index_col looks for a column of row names. na_values tells what to do with \"not a number\" values. The command will automatically look for column names in your file and use those to name your data columns. You will run a command like the following one four times (red, yellow, green, blue) but with different dataframe names and sheets in your Excel file."
   ]
  },
  {
   "cell_type": "code",
   "execution_count": null,
   "metadata": {},
   "outputs": [],
   "source": [
    "#We'll use pandas to load an Excel file. Pandas is very smart at this.\n",
    "blue_df = pd.read_excel('LED_IV_Data_TCM.xlsx', 'Blue_Raw', index_col=None, na_values=['NA']) #load blue LED data\n",
    "green_df =\n",
    "yellow_df =\n",
    "red_df = "
   ]
  },
  {
   "cell_type": "markdown",
   "metadata": {},
   "source": [
    "Let's create a current $I$ column in each dataframe and name it `current`. We used a 100 Ohm resistor. \n",
    "### Deliverable\n",
    "Show, starting from Ohm’s Law $V_{in}=V_d+ V_R = IR_{d}+IR$ , that the voltage divider circuit of Figure 1 allows you to calculate the current.\n",
    "\n",
    "\n",
    "For each LED color, create a current column in the appropriate dataframe."
   ]
  },
  {
   "cell_type": "code",
   "execution_count": null,
   "metadata": {},
   "outputs": [],
   "source": [
    "#current = (df['Vin']-df['Vd'])/R\n",
    "blue_df['current'] =  #Calculate the blue current as derived above and put it in the dataframe created by Pandas.\n",
    "green_df['current'] =  #Calculate the green current.\n",
    "yellow_df['current'] =  #Calculate the green current.\n",
    "red_df['current'] =  #Calculate the green current."
   ]
  },
  {
   "cell_type": "markdown",
   "metadata": {},
   "source": [
    "Now, plot all four LEDs on a single graph. The graph will be $I vs. V_d$. Color each plot the same color as the LED color."
   ]
  },
  {
   "cell_type": "code",
   "execution_count": null,
   "metadata": {},
   "outputs": [],
   "source": [
    "plt.plot(blue_df['Vled'], blue_df['current'], 'bo', label='blue')#plot blue\n",
    "#plot green\n",
    "#plot yellow\n",
    "#plot red\n",
    "plt.xlabel('LED Voltage')\n",
    "plt.ylabel('Current')\n",
    "plt.legend(loc=0)\n",
    "plt.grid(True)\n",
    "plt.show()"
   ]
  },
  {
   "cell_type": "markdown",
   "metadata": {},
   "source": [
    "We need to propagate the uncertainty in the current before we attempt to fit the data for the turn-on voltage. The uncertainty in the current is propagated as\n",
    "\n",
    "$$\\Delta I = \\sqrt{\\left|\\frac{\\partial I}{\\partial V_{in}}\\Delta V_{in}\\right|^2+\\left|\\frac{\\partial I}{\\partial V_{led}}\\Delta V_{led}\\right|^2+\\left|\\frac{\\partial I}{\\partial R}\\Delta R\\right|^2}$$\n",
    "\n",
    "We are partially differentiating the current you derived in Deliverable 1 to find uncertainty coming from each measured variable. The $\\Delta V{in}$ and $\\Delta V{d}$ are voltage uncertainties. We will assume the uncertainty in the voltages comes from the digitization, which is dividing the 3.3 Volts into 1024 increments. The uncertainty in the resistor $\\Delta R$ is based on the fourth color band. Silver is 10% and gold is 5%. My resistor was $R=100\\pm 10 \\Omega$. "
   ]
  },
  {
   "cell_type": "code",
   "execution_count": null,
   "metadata": {},
   "outputs": [],
   "source": [
    "blue_df['current_unc'] = \n",
    "green_df['current_unc'] = \n",
    "yellow_df['current_unc'] = \n",
    "red_df['current_unc'] = "
   ]
  },
  {
   "cell_type": "markdown",
   "metadata": {},
   "source": [
    "We need to find the turn-on voltage. To do this we will fit a line to the steeply increasing current vs. voltage. See the figure.\n",
    "<img src=\"https://raw.githubusercontent.com/troymessina/ModernPhysics/master/images/Turn-onV.gif\">\n",
    "With that line we can find the x-intercept, and use that as the turn-on voltage. Unfortunately, the fitting routine cannot be applied to only that range of the data. To do this fitting we want to create arrays with only the part of the data we want to fit. You need to find the region of your data that is linear. It may take some testing to find the best range of data that includes the most data points."
   ]
  },
  {
   "cell_type": "code",
   "execution_count": null,
   "metadata": {},
   "outputs": [],
   "source": [
    "# curve_fit function\n",
    "def f_line(x, m, b):\n",
    "    return m*x + b\n",
    "\n",
    "m_guess = #guess the slope based on your data\n",
    "b_guess = #guess the intercept based on your data"
   ]
  },
  {
   "cell_type": "code",
   "execution_count": null,
   "metadata": {},
   "outputs": [],
   "source": [
    "#You'll repeat this for each color. \n",
    "#It will likely take more than one try for each to find the right region to fit.\n",
    "#It is recommended to do this one color at a time. Copy and paste the code below in new cells for each color.\n",
    "dftemp = blue_df.loc[blue_df['Vled'] >2.50] #select the part of your data that looks linear after the LED turns on.\n",
    "blue_params, blue_pcov = curve_fit(f_line, dftemp['Vled'], dftemp['current'], (a,b), sigma=dftemp['current_unc'], absolute_sigma=True)\n",
    "\n",
    "#print('values of the fitting parameters')\n",
    "print(blue_params, blue_pcov)\n",
    "\n",
    "x_fit = linspace(0, 3, 200)\n",
    "#plt.plot(blue_df['Vled'], blue_df['current'], 'bo')\n",
    "plt.errorbar(blue_df['Vled'], blue_df['current'], fmt='bo', yerr=blue_df['current_unc'], capsize=5, capthick=2)\n",
    "plt.plot(xx, f_line(xx, *blue_params), 'b')\n",
    "plt.title('Least squares fit of blue LED')\n",
    "#plt.xlim([0,3.0])\n",
    "#plt.ylim([-1e-5,0.00008])\n",
    "plt.xlabel('LED Voltage (Volts)')\n",
    "plt.ylabel('Current (Amps)')\n",
    "plt.show()"
   ]
  },
  {
   "cell_type": "markdown",
   "metadata": {},
   "source": [
    "Once we have a good linear fit, we need to calculate the x-intercept from the fit parameters.\n",
    "### Deliverable\n",
    "Show how you calculate the x-intercept from the fit parameters.\n",
    "\n",
    "Use python to calculate this."
   ]
  },
  {
   "cell_type": "code",
   "execution_count": null,
   "metadata": {},
   "outputs": [],
   "source": [
    "blue_turn_onV = \n",
    "print(blue_turn_onV)"
   ]
  },
  {
   "cell_type": "markdown",
   "metadata": {},
   "source": [
    "Voltage is Joules per Coulomb. We can convert to Joules by multiplying by the number of Coulombs per electron. This is the principle behind the relationship between Joules (J) and electron Volts (eV). \n",
    "\n",
    "$$e\\cdot V_{turn-on} = {\\rm Joules}$$ \n",
    "\n",
    "Next, we'll assume the values of the speed of light and Planck's constant to calculate the wavelength of the LED. This was what Planck assumed to derive the blackbody radiation and Einstein's work supported in deriving the photoelectric effect.\n",
    "\n",
    "$$\\frac{hc}{\\lambda} = eV_{turn-on}$$\n",
    "\n",
    "Use this to calculate the wavelength of each LED."
   ]
  },
  {
   "cell_type": "code",
   "execution_count": null,
   "metadata": {},
   "outputs": [],
   "source": [
    "h = 6.626e-34 #J-s\n",
    "c = 3e8 #m/s\n",
    "blue_wL = #blue wavelength\n",
    "green_wL = #green wavelength\n",
    "yellow_wL = #yellow wavelength\n",
    "red_wL = #red wavelength"
   ]
  },
  {
   "cell_type": "markdown",
   "metadata": {},
   "source": [
    "We can use the covariant matrix to propagate uncertainty to our wavelengths. The diagonal of the covariant matrix is the squares of the uncertainties in slope and intercept. First, we square root those values to get uncertainties in slope and intercept. Then, we calculated the x-intercept as the ratio of these. Therefore, the uncertainty in the turn-on voltage is found by\n",
    "\n",
    "$$V_{turn-on} = \\frac{b}{m}$$\n",
    "\n",
    "$$\\Delta V_{turn-on} = \\frac{\\partial V_{turn-on}}{\\partial b}\\cdot\\Delta b + \\frac{\\partial V_{turn-on}}{\\partial m}\\cdot\\Delta m$$\n",
    "\n",
    "$$\\Delta V_{turn-on} = \\frac{1}{m}\\cdot\\Delta b + \\frac{b}{m^2}\\cdot\\Delta m$$"
   ]
  },
  {
   "cell_type": "code",
   "execution_count": null,
   "metadata": {},
   "outputs": [],
   "source": [
    "blue_wL_unc = #blue wavelength\n",
    "green_wL_unc = #green wavelength\n",
    "yellow_wL_unc = #yellow wavelength\n",
    "red_wL_unc = #red wavelength\n",
    "\n",
    "#print the wavelengths\n",
    "print(\"red: %3.1f, +/- %3.1f, nm\" % (red_wL*1e9, red_wL_unc*1e9))\n",
    "print(\"yellow: %3.1f, +/- %3.1f, nm\" % (yellow_wL*1e9, yellow_wL_unc*1e9))\n",
    "print(\"green: %3.1f, +/- %3.1f, nm\" % (green_wL*1e9, green_wL_unc*1e9))\n",
    "print(\"blue: %3.1f, +/- %3.1f, nm\" % (blue_wL*1e9, blue_wL_unc*1e9))"
   ]
  }
 ],
 "metadata": {
  "kernelspec": {
   "display_name": "Python 3",
   "language": "python",
   "name": "python3"
  },
  "language_info": {
   "codemirror_mode": {
    "name": "ipython",
    "version": 3
   },
   "file_extension": ".py",
   "mimetype": "text/x-python",
   "name": "python",
   "nbconvert_exporter": "python",
   "pygments_lexer": "ipython3",
   "version": "3.8.5"
  }
 },
 "nbformat": 4,
 "nbformat_minor": 4
}
