{
 "cells": [
  {
   "cell_type": "markdown",
   "metadata": {},
   "source": [
    "- - - -\n",
    "# LED Electrical Characteristics Dependence on LED Color\n",
    "\n",
    "We will explore the current and voltage characteristics of light emitting diodes (LEDs). Using plots of current vs. voltage and assuming Planck's hypothesis that photons have energy $hc/\\lambda$, we will determine the wavelength of light emitted from an LED. We will using a DC power supply connected to a resistor and LED series circuit to collect voltage data on the LED-resistor voltage divider circuit as seen in Figure 1. Our experiments will observe how forward-biased voltage and current depends on the color of the LED.\n",
    "\n",
    "<center>\n",
    "<img src=\"https://upload.wikimedia.org/wikipedia/commons/thumb/c/c9/LED_circuit.svg/1200px-LED_circuit.svg.png\" alt=\"LED-resistor voltage divider circuit\" width=\"200\">\n",
    "Figure 1. A voltage divider circuit with DC input and an LED and known resistor as loads on the circuit.\n",
    "</center>\n",
    "\n",
    "The LED is directional with a cathode and anode as shown in Figure 2.\n",
    "\n",
    "<center>\n",
    "<img src=\"https://content-calpoly-edu.s3.amazonaws.com/idesign/1/images/LED.png\" alt=\"LED diagram\" width=\"300\">\n",
    "Figure 2. A diagram of an LED.\n",
    "</center>"
   ]
  },
  {
   "cell_type": "code",
   "execution_count": 4,
   "metadata": {},
   "outputs": [],
   "source": [
    "# import modules\n",
    "import numpy as np\n",
    "from numpy import array, arange, pi, exp, sin, cos, polyfit, poly1d, linspace, zeros, flipud, sqrt\n",
    "import matplotlib.pyplot as plt\n",
    "from matplotlib.pyplot import *\n",
    "import scipy\n",
    "from scipy.optimize import curve_fit\n",
    "from scipy.optimize import fmin\n",
    "%matplotlib inline\n",
    "import matplotlib as mpl\n",
    "mpl.rcParams['figure.figsize'] = (12,8)\n",
    "mpl.rcParams['font.size'] = 14\n",
    "mpl.rcParams['legend.fontsize'] = 14"
   ]
  },
  {
   "cell_type": "markdown",
   "metadata": {},
   "source": [
    "## Procedure\n",
    "Import the modules above. Then, set up the circuit as shown above using the DC power supply in place of the $V$, a.k.a $V_{in}$. You will measure the voltage output of the DC power supply and the voltage across the LED. Record the known resistance and its uncertainty in the cell below. We can approximate the voltage needed to illuminate an LED using Planck's hypothesis. In the code cell below, calculate the photon energy in electron volts for blue (400 nm), greed (500 nm), yellow (600 nm), and red (650 nm) photons. Electron-volts are a funny unit. We can divide by $e$ to get Volts. On the other side of the Planck energy equation, dividing by $e$ simply changes the units from Joules to electron-Volts. Therefore, we can use units as described below to calculate the LED energies in eV.\n",
    "\n",
    "$$E_{photons}\\left(eV\\right) = \\frac{hc}{\\lambda}$$\n",
    "\n",
    "In order to get light emitted from the diode, we need to apply energy to the circuit comparable to this energy. Our plan is to increase the applied energy (Voltage) to the circuit and determine the LED wavelength from the onset of light emission, which corresponds to the onset of Ohmic behavior.\n",
    "\n",
    "* Define `hc = 1240 #eV-nm`\n",
    "* Define `R = #ohms known resistor`\n",
    "* Define `dR = #uncertainty of known resistor from last band`\n",
    "* Calculate photon energy for each LED."
   ]
  },
  {
   "cell_type": "code",
   "execution_count": null,
   "metadata": {},
   "outputs": [],
   "source": [
    "hc =  #ev-nm\n",
    "R =  #Known resistance\n",
    "dR = #uncertainty in the known resistance\n",
    "\n",
    "#Use wavelengths above in nm to get eV energies.\n",
    "eV_blue = \n",
    "eV_green = \n",
    "eV_yellow = \n",
    "eV_red = \n",
    "\n",
    "print('blue = %.1f' % eV_blue,'eV', 'green = %.1f' %  eV_green,'eV', 'yellow = %.1f' %  eV_yellow,'eV', 'red = %.1f' %  eV_red,'eV')"
   ]
  },
  {
   "cell_type": "markdown",
   "metadata": {},
   "source": [
    "These will be the **maximum voltages** you apply to your circuit with the DC power supply for each LED. Divide these voltages by 20-30 to determine the voltage increment to use for each LED. For example, you will measure from 0.1 to 3.1 Volts in steps of 0.10 Volt for the blue LED.\n",
    "\n",
    "Enter your data below for the DC power supply, e.g., `blue_V` and for the voltage across the LED, e.g., `blue_VL`."
   ]
  },
  {
   "cell_type": "code",
   "execution_count": 37,
   "metadata": {},
   "outputs": [],
   "source": [
    "#Enter blue LED data\n",
    "blue_Vin = np.array([]) #Power supply voltage\n",
    "blue_VL = blue_Vin-np.array([]) #LED voltage\n",
    "#Enter green LED data\n",
    "green_Vin = np.array([]) #Power supply voltage\n",
    "green_VL = np.array([]) #LED voltage\n",
    "#Enter yellow LED data\n",
    "yellow_Vin = np.array([]) #Power supply voltage\n",
    "yellow_VL = np.array([]) #LED voltage\n",
    "#Enter red LED data\n",
    "red_Vin = np.array([]) #Power supply voltage\n",
    "red_VL = np.array([]) #LED voltage"
   ]
  },
  {
   "cell_type": "markdown",
   "metadata": {},
   "source": [
    "Since resistive circuits obey the linear Ohm's Law ($V=IR$), let's calculate current $I$ for our circuit.  We know from Ohm's Law that\n",
    "\n",
    "$$\\begin{align}\n",
    "\\\\\n",
    "V_{in} &= V_{LED}+ V_R\\\\\n",
    "\\\\\n",
    "V_{in} &= V_{LED}+IR\n",
    "\\end{align}$$\n",
    "\n",
    "The second equation is written in a form to maximize the number of measured quantities shown in the equation. These measured quantities are $V_{in}, V_{LED},$ and $R$. Therefore, the last equation has one unknown $I$.\n",
    "\n",
    "### Deliverable #1\n",
    "Starting from Ohm’s Law, show that the voltage divider circuit of Figure 1 allows you to calculate the current in terms of known or measured quantities ($R$, $V_{in}$, and $V_{LED}$). \n",
    "\n",
    "<font color=\"red\">Typeset your derivation of current here.</font>\n",
    "\n",
    "\n",
    "For each LED color, create a current array below using the equation you derived above."
   ]
  },
  {
   "cell_type": "code",
   "execution_count": 38,
   "metadata": {},
   "outputs": [],
   "source": [
    "blue_I = \n",
    "#green_I = \n",
    "#yellow_I = \n",
    "#red_I = "
   ]
  },
  {
   "cell_type": "markdown",
   "metadata": {},
   "source": [
    "Now, plot all four LEDs on a single graph. The graph will be $I$ vs. $V_{LED}$. Color and label each plot the same color as the LED color. **You can shift-enter to plot the blue LED and make sure it works before adding other colors to the plot.**"
   ]
  },
  {
   "cell_type": "code",
   "execution_count": null,
   "metadata": {},
   "outputs": [],
   "source": [
    "plt.plot(blue_VL, blue_I, 'bo', label='blue')#plot blue\n",
    "#plot green\n",
    "#plot yellow\n",
    "#plot red\n",
    "plt.xlabel('LED Voltage')\n",
    "plt.ylabel('Current')\n",
    "plt.legend(loc=0)\n",
    "plt.grid(True)\n",
    "plt.show()"
   ]
  },
  {
   "cell_type": "markdown",
   "metadata": {},
   "source": [
    "Notice that only a portion of the graphs appear to have $I$ proportional to $V_{LED}$. Since we are assuming Ohm's Law to be valid, we need to select only the data that appears to have a linear dependence between $I$ and $V_{LED}$. Our eventual goal is to find the turn-on voltage as shown in Figure 3. To do this we will fit a line to the linearly increasing current vs. voltage.\n",
    "\n",
    "<center>\n",
    "<img src=\"https://raw.githubusercontent.com/troymessina/ModernPhysics/master/images/Turn-onV.gif\" alt=\"Graph showing turn-on voltage of an LED\" width=\"400\">\n",
    "    Figure 3. Graph showing the linear region of LED I-V curve and the extrapolation to the turn-on voltage.\n",
    "</center>\n",
    "\n",
    "With that line we can find the x-intercept, and use that as the turn-on voltage. To do this fitting we want to create arrays with only the part of the data we want to fit. You need to find the region of your data that is linear and either remeasure only that region of $V_{in}$ or copy that portion of your arrays above into the arrays below. It may take some testing to find the best range of data. You should have at least five data points in this linear region. If you do not, fill in your data by taking more measurements. In the code cell below redefine the data arrays to only have the linear portions of data. Re-plot the arrays to ensure the data appears linear for each LED.\n",
    "\n",
    "**You only need to redo the arrays. The plotting should work without editing.**"
   ]
  },
  {
   "cell_type": "code",
   "execution_count": null,
   "metadata": {},
   "outputs": [],
   "source": [
    "#Enter blue LED data\n",
    "blue_Vin = np.array([]) #Power supply voltage\n",
    "blue_VL = np.array([]) #LED voltage\n",
    "blue_I = (blue_Vin-blue_VL)/R #blue current\n",
    "\n",
    "#Plot the results for blue\n",
    "plt.plot(blue_VL, blue_I, 'bo', label='blue')#plot blue\n",
    "plt.xlabel('LED Voltage')\n",
    "plt.ylabel('Current')\n",
    "plt.legend(loc=0)\n",
    "plt.grid(True)\n",
    "plt.show()"
   ]
  },
  {
   "cell_type": "markdown",
   "metadata": {},
   "source": [
    "We need to propagate the uncertainty to the current before we attempt to fit the data for the turn-on voltage. The uncertainty in the current is propagated as\n",
    "\n",
    "$$\\Delta I = \\left|\\frac{\\partial I}{\\partial V_{in}}\\right|\\Delta V_{in}+\\left|\\frac{\\partial I}{\\partial V_{LED}}\\right|\\Delta V_{LED}+\\left|\\frac{\\partial I}{\\partial R}\\right|\\Delta R$$\n",
    "\n",
    "We are partially differentiating the current you derived in **Deliverable 1** to find uncertainty coming from each measured variable. The $\\Delta V{in}$ and $\\Delta V_{LED}$ are voltage uncertainties. We will assume the uncertainty in the voltages comes from the digitization on the DC power supply display. The uncertainty in the resistor $\\Delta R$ is based on the fourth color band. Silver is 10% and gold is 5% of the resistor value, e.g., a gold band has relative uncertainty $\\Delta R/R = 0.05$.\n",
    "\n",
    "### Deliverable #2\n",
    "Typeset the equation for the uncertainty in current where all of the derivatives have been taken.\n",
    "\n",
    "<font color=\"red\">Typeset your uncertainty in current here.</font>\n",
    "\n",
    "In the code cell below calculate the uncertainty in the current for each LED."
   ]
  },
  {
   "cell_type": "code",
   "execution_count": 58,
   "metadata": {},
   "outputs": [],
   "source": [
    "blue_dI = \n",
    "#green_dI = \n",
    "#yellow_dI =\n",
    "#red_dI = "
   ]
  },
  {
   "cell_type": "markdown",
   "metadata": {},
   "source": [
    "## Fitting Data\n",
    "The following code cell creates a linear fitting function. You will need to insert intial guesses for the slope and intercept. These values can be approximate, and the same values can be used for all of the colors of LED."
   ]
  },
  {
   "cell_type": "code",
   "execution_count": 59,
   "metadata": {},
   "outputs": [],
   "source": [
    "# curve_fit function\n",
    "def f_line(x, m, b):\n",
    "    return m*x + b\n",
    "\n",
    "m_guess = #guess the slope based on your data\n",
    "b_guess = #guess the intercept based on your data"
   ]
  },
  {
   "cell_type": "markdown",
   "metadata": {},
   "source": [
    "### Blue LED\n",
    "Fit the blue LED and plot the fit. Once this works, proceed with the other three LEDS and plot them all together at the end.\n",
    "\n",
    "**Assuming you have everything correct above, you can shift-enter the next cell to fit and plot the blue LED data with errorbars.**"
   ]
  },
  {
   "cell_type": "code",
   "execution_count": null,
   "metadata": {},
   "outputs": [],
   "source": [
    "#You'll repeat this for each color. \n",
    "#It will likely take more than one try for each to find the right region to fit.\n",
    "#It is recommended to do this one color at a time. Copy and paste the code below in new cells for each color.\n",
    "blue_params, blue_pcov = curve_fit(f_line, blue_VL, blue_I, (m_guess,b_guess), sigma=blue_dI, absolute_sigma=True)\n",
    "\n",
    "#print('values of the fitting parameters')\n",
    "print(blue_params, blue_pcov)\n",
    "\n",
    "#plt.plot(blue_df['Vled'], blue_df['current'], 'bo')\n",
    "plt.errorbar(blue_VL, blue_I, fmt='bo', yerr=blue_dI, capsize=5, capthick=2)\n",
    "plt.plot(blue_VL, f_line(blue_VL, *blue_params), 'b')\n",
    "plt.title('Least squares fit of blue LED')\n",
    "#plt.xlim([0,3.0])\n",
    "#plt.ylim([-1e-5,0.00008])\n",
    "plt.xlabel('LED Voltage (Volts)')\n",
    "plt.ylabel('Current (Amps)')\n",
    "plt.show()"
   ]
  },
  {
   "cell_type": "markdown",
   "metadata": {},
   "source": [
    "### Green LED"
   ]
  },
  {
   "cell_type": "code",
   "execution_count": null,
   "metadata": {},
   "outputs": [],
   "source": [
    "#Copy and edit the blue results here once the blue results work."
   ]
  },
  {
   "cell_type": "markdown",
   "metadata": {},
   "source": [
    "### Yellow LED"
   ]
  },
  {
   "cell_type": "code",
   "execution_count": null,
   "metadata": {},
   "outputs": [],
   "source": [
    "#Copy and edit the blue results here once the blue results work."
   ]
  },
  {
   "cell_type": "markdown",
   "metadata": {},
   "source": [
    "### Red LED"
   ]
  },
  {
   "cell_type": "code",
   "execution_count": null,
   "metadata": {},
   "outputs": [],
   "source": [
    "#Copy and edit the blue results here once the blue results work."
   ]
  },
  {
   "cell_type": "markdown",
   "metadata": {},
   "source": [
    "Once we have a good linear fit, we need to calculate the x-intercept from the fit parameters. We know that\n",
    "\n",
    "$$y = mx + b$$\n",
    "\n",
    "and we want the $x$ value where $y=0$. In terms of our fit parameters, the blue $m$ is `blue_params[0]` and $b$ is `blue_params[1]`.\n",
    "\n",
    "\n",
    "### Deliverable #3\n",
    "Show how you calculate the x-intercept from the fit parameters.\n",
    "\n",
    "<font color=\"red\">Typeset your x-intercept calculation here.</font>\n",
    "\n",
    "Use python to calculate this intercept."
   ]
  },
  {
   "cell_type": "code",
   "execution_count": null,
   "metadata": {},
   "outputs": [],
   "source": [
    "blue_turn_onV = \n",
    "print(blue_turn_onV)"
   ]
  },
  {
   "cell_type": "markdown",
   "metadata": {},
   "source": [
    "We can use the turn-on voltage directly to calculate the wavelength since it is the voltage at which light begins to be emitted.\n",
    "\n",
    "$$\\frac{hc}{\\lambda} = V_{turn-on}$$\n",
    "\n",
    "Use this to calculate the wavelength of each LED."
   ]
  },
  {
   "cell_type": "code",
   "execution_count": 62,
   "metadata": {},
   "outputs": [],
   "source": [
    "blue_wL = #blue wavelength\n",
    "#green_wL = #green wavelength\n",
    "#yellow_wL = #yellow wavelength\n",
    "#red_wL = #red wavelength"
   ]
  },
  {
   "cell_type": "markdown",
   "metadata": {},
   "source": [
    "We can use the covariant matrix to propagate uncertainty to our wavelengths. The diagonal of the covariant matrix is the squares of the uncertainties in slope (e.g., $\\Delta m = \\sqrt{\\rm blue\\_pcov[0,0]}$) and intercept (e.g., $\\Delta b = \\sqrt{\\rm blue\\_pcov[1,1]}$). First, we square root those values to get uncertainties in slope and intercept. Then, we calculated the x-intercept as the ratio of these. Therefore, the uncertainty in the turn-on voltage is found by\n",
    "\n",
    "$$V_{turn-on} = \\frac{b}{m}$$\n",
    "\n",
    "$$\\Delta V_{turn-on} = \\frac{\\partial V_{turn-on}}{\\partial b}\\cdot\\Delta b + \\frac{\\partial V_{turn-on}}{\\partial m}\\cdot\\Delta m$$\n",
    "\n",
    "$$\\Delta V_{turn-on} = \\frac{1}{m}\\cdot\\Delta b + \\frac{b}{m^2}\\cdot\\Delta m$$\n",
    "\n",
    "and since\n",
    "\n",
    "$$\\lambda = \\frac{hc}{eV_{turn-on}}$$\n",
    "\n",
    "the uncertainty in the wavelength is\n",
    "\n",
    "$$\\Delta \\lambda = \\frac{hc}{V_{turn-on}^2}\\Delta V_{turn-on}$$"
   ]
  },
  {
   "cell_type": "code",
   "execution_count": null,
   "metadata": {},
   "outputs": [],
   "source": [
    "blue_wL_unc = #blue wavelength\n",
    "#green_wL_unc = #green wavelength\n",
    "#yellow_wL_unc = #yellow wavelength\n",
    "#red_wL_unc = #red wavelength\n",
    "\n",
    "#print the wavelengths\n",
    "#print(\"red: %3.1f, +/- %3.1f, nm\" % (red_wL*1e9, red_wL_unc*1e9))\n",
    "#print(\"yellow: %3.1f, +/- %3.1f, nm\" % (yellow_wL*1e9, yellow_wL_unc*1e9))\n",
    "#print(\"green: %3.1f, +/- %3.1f, nm\" % (green_wL*1e9, green_wL_unc*1e9))\n",
    "print(\"blue: %3.1f, +/- %3.1f, nm\" % (blue_wL, blue_wL_unc))"
   ]
  },
  {
   "cell_type": "markdown",
   "metadata": {},
   "source": [
    "## Questions\n",
    "1. Do your results correspond to wavelengths in the correct part of the visible spectrum?\n",
    "2. Do you results agree with spectroscopic measurements of the LEDs?\n",
    "    * blue wavelength = 458 nm\n",
    "    * green wavelength = 510 nm\n",
    "    * yellow wavelength = 603 nm\n",
    "    * red wavelength = 630 nm\n",
    "3. What is the visible spectrum's photon energy range in eV?"
   ]
  },
  {
   "cell_type": "code",
   "execution_count": null,
   "metadata": {},
   "outputs": [],
   "source": []
  }
 ],
 "metadata": {
  "kernelspec": {
   "display_name": "Python 3 (ipykernel)",
   "language": "python",
   "name": "python3"
  },
  "language_info": {
   "codemirror_mode": {
    "name": "ipython",
    "version": 3
   },
   "file_extension": ".py",
   "mimetype": "text/x-python",
   "name": "python",
   "nbconvert_exporter": "python",
   "pygments_lexer": "ipython3",
   "version": "3.8.16"
  }
 },
 "nbformat": 4,
 "nbformat_minor": 4
}
