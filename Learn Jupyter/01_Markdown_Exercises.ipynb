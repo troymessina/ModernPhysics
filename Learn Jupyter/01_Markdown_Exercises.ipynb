{
 "cells": [
  {
   "cell_type": "markdown",
   "metadata": {},
   "source": [
    "# Markdown Exercises\n",
    "\n",
    "## Exercise 1 - Headings\n",
    "In the cell below, write a paragraph titled \"Introduction\", where the title is a level 1 heading. In the paragraph, write a few sentences about yourself, e.g., your name, hometown, major, etc. Make a sub-paragraph with a level 2 heading \"Why I chose my major?\" and write a sentence or two about why you are a physics or engineering major."
   ]
  },
  {
   "cell_type": "code",
   "execution_count": null,
   "metadata": {},
   "outputs": [],
   "source": []
  },
  {
   "cell_type": "markdown",
   "metadata": {},
   "source": [
    "## Exercise 2 - Lists\n",
    "In the cell below, make a numbered or bulleted list of assignments you have this week. Separate the list by course such that each course is a top-level list, and the assignments are a second-level list."
   ]
  },
  {
   "cell_type": "code",
   "execution_count": null,
   "metadata": {},
   "outputs": [],
   "source": []
  },
  {
   "cell_type": "markdown",
   "metadata": {},
   "source": [
    "## Exercise 3 - Tables\n",
    "Make a table that has the same information as your assignment lists in exercise 2."
   ]
  },
  {
   "cell_type": "code",
   "execution_count": null,
   "metadata": {},
   "outputs": [],
   "source": []
  },
  {
   "cell_type": "markdown",
   "metadata": {},
   "source": [
    "## Exercise 4 - Code Blocks\n",
    "Write a code block in the cell below that highlights as the Python language. The code should be the following.\n",
    "```\n",
    "m = 1 # slope of a line\n",
    "b = 0 # intercept of a line\n",
    "x = np.linspace(0, 100, 101) # x values\n",
    "y = m*x+b\n",
    "```"
   ]
  },
  {
   "cell_type": "code",
   "execution_count": null,
   "metadata": {},
   "outputs": [],
   "source": []
  },
  {
   "cell_type": "markdown",
   "metadata": {},
   "source": [
    "## Exercise 5 - Images\n",
    "Find a meme or other image you like on the internet. Get the link to the image and put the image in the cell below."
   ]
  },
  {
   "cell_type": "code",
   "execution_count": null,
   "metadata": {},
   "outputs": [],
   "source": []
  },
  {
   "cell_type": "markdown",
   "metadata": {},
   "source": [
    "## Exercise 6 - LaTeX\n",
    "In the cell below, write a sentence defining the variables (`y` and `x`) and the constants (`m` and `b`) that describe a line. The variables should be written using inline `$` LaTeX. Then, typeset the equation for a line using LaTeX formatting to center the equation on its own line (`$$`).\n",
    "\n",
    "Rearrange the equation of a line to solve for `x`, and be sure to use the `\\frac` typesetting in LaTeX."
   ]
  },
  {
   "cell_type": "code",
   "execution_count": null,
   "metadata": {},
   "outputs": [],
   "source": []
  }
 ],
 "metadata": {
  "kernelspec": {
   "display_name": "Python 3",
   "language": "python",
   "name": "python3"
  },
  "language_info": {
   "codemirror_mode": {
    "name": "ipython",
    "version": 3
   },
   "file_extension": ".py",
   "mimetype": "text/x-python",
   "name": "python",
   "nbconvert_exporter": "python",
   "pygments_lexer": "ipython3",
   "version": "3.8.5"
  }
 },
 "nbformat": 4,
 "nbformat_minor": 4
}
