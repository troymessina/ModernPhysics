{
 "cells": [
  {
   "cell_type": "markdown",
   "metadata": {},
   "source": [
    "# Graphing Data with Matplotlib Exercises\n",
    "The first thing to do with any Python code is to import libraries you will need. We will almost always need `numpy` for handling lists (arrays) of numbers and doing math. We will also use `matplotlib` to graph data. Import these libaries with the following commands.\n",
    "```Python\n",
    "import numpy as np\n",
    "import matplotlib.pyplot as plt\n",
    "```\n",
    "\n",
    "This style of importing reminds you which library you are using because you will always need to start with `np.` or `plt.` to use routines in these libraries."
   ]
  },
  {
   "cell_type": "code",
   "execution_count": 2,
   "metadata": {},
   "outputs": [],
   "source": [
    "import numpy as np\n",
    "import matplotlib.pyplot as plt"
   ]
  },
  {
   "cell_type": "markdown",
   "metadata": {},
   "source": [
    "## Measured Data\n",
    "Suppose you are measuring Ohm's Law for a series resistor circuit, where $R_1=R_2=100\\pm 10~\\Omega$. You vary the input voltage and measure the voltage drop across one of the resistors.\n",
    "\n",
    "<img src=\"https://github.com/troymessina/ModernPhysics/blob/master/images/SeriesCircuit.jpg?raw=true\" width=\"400\">\n",
    "\n",
    "|V</sub>in</sub>|V<sub>1</sub>|\n",
    "|---|---|\n",
    "|1|0.49|\n",
    "|2|1.02|\n",
    "|3|1.48|\n",
    "|4|2.01|\n",
    "|5|2.53|\n",
    "\n",
    "### Your Task\n",
    "Create variables `R1` and `R2`. Put the data into `numpy` arrays called `Vin` and `V1`. These arrays are created using the following syntax.\n",
    "\n",
    "`arrayname = np.array([value1, value2, ...)]`"
   ]
  },
  {
   "cell_type": "code",
   "execution_count": 3,
   "metadata": {},
   "outputs": [],
   "source": [
    "R1=100\n",
    "R2=100\n",
    "Vin=np.array([1, 2, 3, 4, 5])\n",
    "V1=np.array([0.49, 1.02, 1.48, 2.01, 2.53])"
   ]
  },
  {
   "cell_type": "markdown",
   "metadata": {},
   "source": [
    "## Referencing Array Elements\n",
    "Once you have an array, you can select individual values (or elements) in the array. Python is a \"zero-counting\" language, which means 0 is the first number used to list things. As a counter-example, Excel is a \"one-counting\" program. The first row in Excel is indexed as 1. If we want to select a value from an array, we reference its row number or column number or both. In the future we will be introduced to an array handling library where we can name the rows and columns, but with numpy we only have the numbers.\n",
    "\n",
    "Here is an example where I print the value of $V_{in}$ in the second row. Keep in mind the second row is indexed as 1 in the array.\n",
    "\n",
    "```python\n",
    "print(Vin[1])\n",
    "```\n",
    "\n",
    "This would print 2. Now you try. Print the value of $V_1=2.01$"
   ]
  },
  {
   "cell_type": "code",
   "execution_count": 4,
   "metadata": {},
   "outputs": [
    {
     "name": "stdout",
     "output_type": "stream",
     "text": [
      "2.01\n"
     ]
    }
   ],
   "source": [
    "print(V1[3])"
   ]
  },
  {
   "cell_type": "markdown",
   "metadata": {},
   "source": [
    "### Calculations from Data\n",
    "The current through the resistor $R_1$ is $I = V_1/R_1$. Since this is a series circuit, the current is the same through $R_2$. Create a `numpy` array called `current`, and use Python to calculate the values for that array. Doing math on numpy arrays does not require creating the array. You can simply do math using the array names, and Python is \"array-aware\", meaning it does the math by matching the array elements. The arrays DO need to be the same size when you do arithmetic. Here is an example subtracting $V_{in}-V_1$.\n",
    "\n",
    "```python\n",
    "Vin-V1\n",
    "```"
   ]
  },
  {
   "cell_type": "code",
   "execution_count": 5,
   "metadata": {},
   "outputs": [],
   "source": [
    "current=V1/R1"
   ]
  },
  {
   "cell_type": "markdown",
   "metadata": {},
   "source": [
    "## Plot Current vs. Voltage\n",
    "We imported a library for plotting, `matplotlib.pyplot`. It can be called using `plt.*`, where `*` is a function within the library. For example,\n",
    "\n",
    "```python\n",
    "plt.plot(x, y)\n",
    "```\n",
    "\n",
    "will create a plot of data stored in arrays `x` and `y`. We can go much further though. You can try:\n",
    "\n",
    "```python\n",
    "\n",
    "plt.plot(x,y,'or-')\n",
    "\n",
    "```\n",
    "\n",
    "for a red solid line plot.  You can try:\n",
    "\n",
    "```python\n",
    "\n",
    "plt.plot(x,y,'b.')\n",
    "\n",
    "```\n",
    "\n",
    "for a blue scatter plot with small filled circles.  The following:\n",
    "\n",
    "```python\n",
    "\n",
    "plt.plot(x,y,'m+')\n",
    "\n",
    "```\n",
    "\n",
    "will produce magenta ``+`` symbols for the data points.\n",
    "\n",
    "Here are letters for various colors.\n",
    "\n",
    "| letter | color || letter | color |\n",
    "| -- | -- | -- |  -- | -- |\n",
    "|b | blue || m | magenta |\n",
    "|g  |  green  ||  y  |  yellow  | \n",
    "|r  |  red || k  |  black |\n",
    "|c | cyan || w | white |\n",
    "\n",
    "Here are symbols for various types of markers.\n",
    "\n",
    "| symbol | marker || symbol | marker |\n",
    "| -- | -- | -- |  -- | -- |\n",
    "| `s` | square marker | | `p` | pentagon marker |\n",
    "|`D` | diamond marker | | `d` | thin diamond marker|\n",
    "|`*` | star marker | | `+` | plus marker|\n",
    "|`h` | hexagon1 marker | | `H` | hexagon2 marker|\n",
    "|`x` | x marker | | | | |\n",
    "\n",
    "Use `-` for solid line and `--` for a dashed line.\n",
    "\n",
    "In the cell below, try plotting graphs with various markers and lines. If we want a legend, we need to label our data.\n",
    "\n",
    "```python\n",
    "plt.plot(x,y,'or', label=\"Data\")\n",
    "plt.legend(loc=0) #add a legend in the best location\n",
    "plt.show()\n",
    "```\n",
    "\n",
    "The last line `plt.show()` creates the graph after decorating it with a legend. We can add more decorations, such as axis labels `plt.xlabel('Voltage')` and `plt.ylabel('Current')`. We can add gridlines. `plt.grid(True)`. These all go in between `plt.plot` and `plt.show()`.\n",
    "\n",
    "Make a plot of current on the y-axis and voltage on the x-axis. Make the symbols and color anything you choose, but do not include a connecting line. Label the axes. Add a legend. Add gridlines."
   ]
  },
  {
   "cell_type": "code",
   "execution_count": 6,
   "metadata": {},
   "outputs": [
    {
     "data": {
      "image/png": "[encoded data removed]",
      "text/plain": [
       "<Figure size 432x288 with 1 Axes>"
      ]
     },
     "metadata": {
      "needs_background": "light"
     },
     "output_type": "display_data"
    }
   ],
   "source": [
    "plt.plot(V1, current, '*r', label='Data')\n",
    "plt.xlabel('Voltage (V)')\n",
    "plt.ylabel('Current (A)')\n",
    "plt.grid(True)\n",
    "plt.legend(loc=0)\n",
    "plt.show()"
   ]
  },
  {
   "cell_type": "markdown",
   "metadata": {},
   "source": [
    "## Curve Fitting\n",
    "We will use a \"non-linear least squares\" library to add a best-fit line to the data. The library is `scipy.optimize.curve_fit`, where the periods indicate sub-libraries within the main library of `scipy`. To make it easy to call the curve_fit algorithms, use the following import method\n",
    "\n",
    "``import scipy\n",
    "from scipy.optimize import curve_fit``\n",
    "\n",
    "The first line imports the entire `scipy` library, and anything in it can be called using `scipy.*`, where `*` indicates a sub-library. The second line imports the curve fitting algorithm so that it can be called using only `curve_fit`.\n",
    "\n",
    "A least-squares algorithm will adjust constants in a function for the independent variable array you give it. In this case, the slope and intercept are the constants in a linear function. $V_1$ is your independent variable, and current is your dependent variable since it depends on voltage and resistance.\n",
    "\n",
    "In the following cell, \n",
    "1. Perform the scipy imports.\n",
    "2. Fill in initial guesses for the slope and intercept.\n",
    "3. Fill in the equation for a line in the function."
   ]
  },
  {
   "cell_type": "code",
   "execution_count": 7,
   "metadata": {},
   "outputs": [],
   "source": [
    "#Imports\n",
    "import scipy\n",
    "from scipy.optimize import curve_fit\n",
    "\n",
    "#initial guesses for slope and intercept\n",
    "m = 100#slope\n",
    "b = 1#intercept\n",
    "\n",
    "\n",
    "#Funtion for fitting\n",
    "def f_line(x, m, b):\n",
    "    return m*x + b"
   ]
  },
  {
   "cell_type": "markdown",
   "metadata": {},
   "source": [
    "We will use the `curve_fit` in its most basic form to begin. The way to call the `curve_fit` function is as follows.\n",
    "\n",
    "```python\n",
    "fit_params, fit_cov = curve_fit(function name, x values, y values, (slope,intercept))\n",
    "```\n",
    "\n",
    "The function call returns two lists of numbers. The first list `fit_params` is the slope and intercept that best fit the data. The second list `fit_cov` is a matrix (2x2 in this case) that gives the uncertainty of the slope and intercept along the diagonal and the correlation between slope and intercept along the off-diagonal. This covariant matrix is only relevant if we provide uncertainties in our data. So, we will ignore it for now. You may name the output arrays anything you wish because the `curve_fit` function creates and fills them based on the names you give. The function `curve_fit` requires the name of the function you want to use, the array of x measurements, the array of y measurements, and an initial guess for the fit parameters (slope and intercept). You might get an error because we have not included uncertainties. Simply run the code a second time to get results.\n",
    "\n",
    "In the following cell, properly enter the `curve_fit` call. Then, print the fit parameters.\n",
    "\n",
    "``print(fit_params)``"
   ]
  },
  {
   "cell_type": "code",
   "execution_count": 12,
   "metadata": {},
   "outputs": [
    {
     "name": "stdout",
     "output_type": "stream",
     "text": [
      "[ 1.00000000e-02 -2.15183427e-12]\n"
     ]
    }
   ],
   "source": [
    "fit_params, junk = curve_fit(f_line, V1, current, (m, b))\n",
    "print(fit_params)"
   ]
  },
  {
   "cell_type": "markdown",
   "metadata": {},
   "source": [
    "## Create Fit Arrays\n",
    "Now, we want to graph the data and the fit line. We need to create `numpy` arrays to store the best-fit line. We could use the same set of x-values we measured, but there aren't very many of them. If this were a non-linear set of data, the fit line would look very zig-zaggy. So, let's create a best-fit line with plenty of points so that we know how to do that.\n",
    "\n",
    "The first thing to do is to create x-values that are in the same range as your measurements, i.e., $0\\leq V_1\\leq 2.6$. We will use the `numpy` function `linspace`. It looks something like the following. See if you can figure out how to create the appropriate x array with 100 points.\n",
    "\n",
    "```python\n",
    "x_fit = np.linspace(x_min, x_max, numpts)\n",
    "```\n",
    "\n",
    "For the y-values, we simply use the linear function we already created, the `fit_params`, and the x-values we just created.\n",
    "\n",
    "```python\n",
    "y_fit = linear function(x, m, b)\n",
    "```\n",
    "\n",
    "Note that the function expects individual values for slope and intercept. Therefore we need to split them out of the `fit_params` array. Recall, how we looked at individual elements of the array above. The slope is the first row, and the intercept is the second row, and you need to zero-count."
   ]
  },
  {
   "cell_type": "code",
   "execution_count": 13,
   "metadata": {},
   "outputs": [],
   "source": [
    "x_fit = np.linspace(0, 2.6, 100)\n",
    "y_fit = f_line(x_fit, fit_params[0], fit_params[1])"
   ]
  },
  {
   "cell_type": "markdown",
   "metadata": {},
   "source": [
    "## Add the Line to Your Graph\n",
    "Using what you know about plotting from above, create a plot just like before, but add the plot of the best-fit line as a solid black line."
   ]
  },
  {
   "cell_type": "code",
   "execution_count": 14,
   "metadata": {},
   "outputs": [
    {
     "data": {
      "image/png": "[encoded data removed]",
      "text/plain": [
       "<Figure size 432x288 with 1 Axes>"
      ]
     },
     "metadata": {
      "needs_background": "light"
     },
     "output_type": "display_data"
    }
   ],
   "source": [
    "plt.plot(V1, current, '*r', label='Data')\n",
    "plt.plot(x_fit, y_fit, '-k', label='Fit')\n",
    "plt.xlabel('Voltage (V)')\n",
    "plt.ylabel('Current (A)')\n",
    "plt.grid(True)\n",
    "plt.legend(loc=0)\n",
    "plt.show()"
   ]
  },
  {
   "cell_type": "code",
   "execution_count": null,
   "metadata": {},
   "outputs": [],
   "source": []
  }
 ],
 "metadata": {
  "kernelspec": {
   "display_name": "Python 3",
   "language": "python",
   "name": "python3"
  },
  "language_info": {
   "codemirror_mode": {
    "name": "ipython",
    "version": 3
   },
   "file_extension": ".py",
   "mimetype": "text/x-python",
   "name": "python",
   "nbconvert_exporter": "python",
   "pygments_lexer": "ipython3",
   "version": "3.8.5"
  }
 },
 "nbformat": 4,
 "nbformat_minor": 4
}
