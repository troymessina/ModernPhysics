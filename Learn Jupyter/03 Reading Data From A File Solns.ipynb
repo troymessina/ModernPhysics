{
 "cells": [
  {
   "cell_type": "markdown",
   "metadata": {},
   "source": [
    "# Reading Data from a File\n",
    "In the previous tutorial we graphed arrays of data, where we manually or mathematically filled the arrays. In some cases, we collect data into a local file and then later want to import that data into a Jupyter notebook. \n",
    "\n",
    "In this tutorial, we will learn to import data from a file using a library called `pandas`. We will see how to load files in four different ways.\n",
    "\n",
    "1. Read local files on your computer\n",
    "    * Read a delimited file called comma-separated values (.csv file)\n",
    "    * Read an Excel file (.xlsx)\n",
    "2. Read files from the web (url)\n",
    "3. Upload a file using Google's Colaboratory\n",
    "\n",
    "The first two methods work for a locally installed version of Jupyter such as Anaconda. The second and third methods work for the web-based Jupyter that is run by Google (https://colab.research.google.com/)\n",
    "\n",
    "## Filetypes\n",
    "### Comma-Separated Values (csv)\n",
    "In data collection and analysis, we are often confronted with files of different types. A common file output from a scientific instrument is a tab or comma-separated lists of data. We will look at the comma-separated variety. In a csv file, there may be as many columns as you wish that are all separated by commas. For example, a file might look like the following.\n",
    "\n",
    "Voltage,Current\n",
    "\n",
    "1.00,5.01\n",
    "\n",
    "2.00,10.10\n",
    "\n",
    "3.00,14.93\n",
    "\n",
    "4.00,20.27\n",
    "\n",
    "5.00,24.98\n",
    "\n",
    "This data can be downloaded from https://github.com/troymessina/ModernPhysics/blob/master/data/example.csv. Right-click and save this file to the same folder where this Jupyter notebook is saved. You may open it to see that it looks like above.\n",
    "\n",
    "## Pandas\n",
    "Pandas is a very powerful data handling library. We will use only very few of its capabilities. To import Pandas, use the following statement. This will make Pandas functionality available through `pd.*` syntax.\n",
    "\n",
    "```python\n",
    "import pandas as pd\n",
    "```"
   ]
  },
  {
   "cell_type": "code",
   "execution_count": 1,
   "metadata": {},
   "outputs": [],
   "source": [
    "import pandas as pd"
   ]
  },
  {
   "cell_type": "markdown",
   "metadata": {},
   "source": [
    "## Load a Local File\n",
    "Once you have imported the Pandas library, we can load the data into what is called a dataframe. A dataframe can handle many different structures of data. We will focus on numerical data with titles for each different list or array of data. To load a csv file into a dataframe use the following command.\n",
    "\n",
    "```python\n",
    "df = pd.read_csv('example.csv')\n",
    "```\n",
    "\n",
    "It's a good idea to use more meaningful dataframe names than `df`."
   ]
  },
  {
   "cell_type": "code",
   "execution_count": 9,
   "metadata": {},
   "outputs": [],
   "source": [
    "example_csv=pd.read_csv('example.csv')"
   ]
  },
  {
   "cell_type": "markdown",
   "metadata": {},
   "source": [
    "This will create a dataframe named `df`. In it are two columns titled \"Voltage\" and \"Current\". You can imagine something like the following table, where the first column is the row index starting with zero and the first row is the the title of each column. These first row and column are used for indexing the dataframe similar to how we indexed the `numpy` arrays in a previous exercise.\n",
    "\n",
    "|| Voltage  | Current |\n",
    "|---|---|---|\n",
    "| 0  | 1.00 | 5.01  |\n",
    "| 1  | 2.00 | 10.10  |\n",
    "| 2  | 3.00 | 14.93  |\n",
    "| 3  | 4.00 | 20.27  |\n",
    "| 4  | 5.00 | 24.98  |\n",
    "\n",
    "You can see the dataframe by printing it\n",
    "\n",
    "```python\n",
    "df.head()\n",
    "```\n",
    "\n",
    "You can also get a list of column names\n",
    "\n",
    "```python\n",
    "# iterating the columns \n",
    "for col in df.columns: \n",
    "    print(col) \n",
    "```"
   ]
  },
  {
   "cell_type": "code",
   "execution_count": 10,
   "metadata": {},
   "outputs": [
    {
     "data": {
      "text/html": [
       "<div>\n",
       "<style scoped>\n",
       "    .dataframe tbody tr th:only-of-type {\n",
       "        vertical-align: middle;\n",
       "    }\n",
       "\n",
       "    .dataframe tbody tr th {\n",
       "        vertical-align: top;\n",
       "    }\n",
       "\n",
       "    .dataframe thead th {\n",
       "        text-align: right;\n",
       "    }\n",
       "</style>\n",
       "<table border=\"1\" class=\"dataframe\">\n",
       "  <thead>\n",
       "    <tr style=\"text-align: right;\">\n",
       "      <th></th>\n",
       "      <th>Voltage</th>\n",
       "      <th>Current</th>\n",
       "    </tr>\n",
       "  </thead>\n",
       "  <tbody>\n",
       "    <tr>\n",
       "      <th>0</th>\n",
       "      <td>1</td>\n",
       "      <td>5.01</td>\n",
       "    </tr>\n",
       "    <tr>\n",
       "      <th>1</th>\n",
       "      <td>2</td>\n",
       "      <td>10.10</td>\n",
       "    </tr>\n",
       "    <tr>\n",
       "      <th>2</th>\n",
       "      <td>3</td>\n",
       "      <td>14.93</td>\n",
       "    </tr>\n",
       "    <tr>\n",
       "      <th>3</th>\n",
       "      <td>4</td>\n",
       "      <td>20.27</td>\n",
       "    </tr>\n",
       "    <tr>\n",
       "      <th>4</th>\n",
       "      <td>5</td>\n",
       "      <td>24.98</td>\n",
       "    </tr>\n",
       "  </tbody>\n",
       "</table>\n",
       "</div>"
      ],
      "text/plain": [
       "   Voltage  Current\n",
       "0        1     5.01\n",
       "1        2    10.10\n",
       "2        3    14.93\n",
       "3        4    20.27\n",
       "4        5    24.98"
      ]
     },
     "execution_count": 10,
     "metadata": {},
     "output_type": "execute_result"
    }
   ],
   "source": [
    "example_csv.head()"
   ]
  },
  {
   "cell_type": "code",
   "execution_count": 11,
   "metadata": {},
   "outputs": [
    {
     "name": "stdout",
     "output_type": "stream",
     "text": [
      "Voltage\n",
      "Current\n"
     ]
    }
   ],
   "source": [
    "# iterating the columns \n",
    "for col in example_csv.columns: \n",
    "    print(col) "
   ]
  },
  {
   "cell_type": "markdown",
   "metadata": {},
   "source": [
    "## Plot the Data\n",
    "Once data is loaded, it can be plotted using `matplotlib`. The beautiful thing about `pandas` is that we can reference the arrays by name. For example, importing `matplotlib` and plotting current vs. voltage might look like the following.\n",
    "\n",
    "```python\n",
    "import matplotlib.pyplot as plt\n",
    "\n",
    "plt.plot(df['Voltage'], df['Current'], 'rs', label='Data')\n",
    "plt.grid(True)\n",
    "plt.xlabel('Voltage (V)')\n",
    "plt.ylabel('Current (A)')\n",
    "plt.legend(loc=0)\n",
    "plt.show()\n",
    "```"
   ]
  },
  {
   "cell_type": "code",
   "execution_count": 12,
   "metadata": {},
   "outputs": [
    {
     "data": {
      "image/png": "[encoded data removed]",
      "text/plain": [
       "<Figure size 432x288 with 1 Axes>"
      ]
     },
     "metadata": {
      "needs_background": "light"
     },
     "output_type": "display_data"
    }
   ],
   "source": [
    "import matplotlib.pyplot as plt\n",
    "\n",
    "plt.plot(example_csv['Voltage'], example_csv['Current'], 'rs', label='Data')\n",
    "plt.grid(True)\n",
    "plt.xlabel('Voltage (V)')\n",
    "plt.ylabel('Current (A)')\n",
    "plt.legend(loc=0)\n",
    "plt.show()"
   ]
  },
  {
   "cell_type": "markdown",
   "metadata": {},
   "source": [
    "## Load a File from URL\n",
    "We can load files from the web as long as we have a URL to the file. This can be useful if we are using Google's Colaboratory instead of an Jupyter installation on our computer. It can also be useful if you store data somewhere like GitHub (https://github.com/), which is a website for keeping up with computer coding projects. It's free!\n",
    "\n",
    "Suppose we want to load the file you just download, but without downloading it. You could do the following.\n",
    "\n",
    "```python\n",
    "df = pd.read_csv('https://raw.githubusercontent.com/troymessina/ModernPhysics/master/data/example.csv')\n",
    "```\n",
    "\n",
    "Notice, I had to go to GitHub and get a \"raw\" address to the file. It is always a good idea to check that it loaded by running the `head` command.\n",
    "\n",
    "```python\n",
    "df.head()\n",
    "```"
   ]
  },
  {
   "cell_type": "code",
   "execution_count": 15,
   "metadata": {},
   "outputs": [
    {
     "data": {
      "text/html": [
       "<div>\n",
       "<style scoped>\n",
       "    .dataframe tbody tr th:only-of-type {\n",
       "        vertical-align: middle;\n",
       "    }\n",
       "\n",
       "    .dataframe tbody tr th {\n",
       "        vertical-align: top;\n",
       "    }\n",
       "\n",
       "    .dataframe thead th {\n",
       "        text-align: right;\n",
       "    }\n",
       "</style>\n",
       "<table border=\"1\" class=\"dataframe\">\n",
       "  <thead>\n",
       "    <tr style=\"text-align: right;\">\n",
       "      <th></th>\n",
       "      <th>Voltage</th>\n",
       "      <th>Current</th>\n",
       "    </tr>\n",
       "  </thead>\n",
       "  <tbody>\n",
       "    <tr>\n",
       "      <th>0</th>\n",
       "      <td>1.0</td>\n",
       "      <td>5.01</td>\n",
       "    </tr>\n",
       "    <tr>\n",
       "      <th>1</th>\n",
       "      <td>2.0</td>\n",
       "      <td>10.10</td>\n",
       "    </tr>\n",
       "    <tr>\n",
       "      <th>2</th>\n",
       "      <td>3.0</td>\n",
       "      <td>14.93</td>\n",
       "    </tr>\n",
       "    <tr>\n",
       "      <th>3</th>\n",
       "      <td>4.0</td>\n",
       "      <td>20.27</td>\n",
       "    </tr>\n",
       "    <tr>\n",
       "      <th>4</th>\n",
       "      <td>5.0</td>\n",
       "      <td>24.98</td>\n",
       "    </tr>\n",
       "  </tbody>\n",
       "</table>\n",
       "</div>"
      ],
      "text/plain": [
       "   Voltage   Current\n",
       "0      1.0      5.01\n",
       "1      2.0     10.10\n",
       "2      3.0     14.93\n",
       "3      4.0     20.27\n",
       "4      5.0     24.98"
      ]
     },
     "execution_count": 15,
     "metadata": {},
     "output_type": "execute_result"
    }
   ],
   "source": [
    "example_csv_from_url = pd.read_csv('https://raw.githubusercontent.com/troymessina/ModernPhysics/master/data/example.csv')\n",
    "example_csv_from_url.head()"
   ]
  },
  {
   "cell_type": "markdown",
   "metadata": {},
   "source": [
    "## Load Data from an Excel File\n",
    "This process is virtually the same as the csv file, except Excel files can store much more data using separate sheets. We can load individual sheets into separate dataframes. Right click and save the target Excel file in the following link to the same directory where this Jupyter notebook is saved. Open the Excel file and see that it has two sheets of data. To load the Excel file by sheet, one would use a command like the following.\n",
    "\n",
    "```python\n",
    "df = pd.read_excel('filename.xlsx', 'sheet name', index_col=None, na_values=['NA'])\n",
    "```\n",
    "\n",
    "The flag `index_col` tells Pandas that there is not a beginning column in the file that indexes the rows. The `na_values` tells Pandas how to deal with Excel cells that are Not A Number (NAN). Try loading each sheet into two different dataframes."
   ]
  },
  {
   "cell_type": "code",
   "execution_count": 20,
   "metadata": {},
   "outputs": [
    {
     "data": {
      "text/html": [
       "<div>\n",
       "<style scoped>\n",
       "    .dataframe tbody tr th:only-of-type {\n",
       "        vertical-align: middle;\n",
       "    }\n",
       "\n",
       "    .dataframe tbody tr th {\n",
       "        vertical-align: top;\n",
       "    }\n",
       "\n",
       "    .dataframe thead th {\n",
       "        text-align: right;\n",
       "    }\n",
       "</style>\n",
       "<table border=\"1\" class=\"dataframe\">\n",
       "  <thead>\n",
       "    <tr style=\"text-align: right;\">\n",
       "      <th></th>\n",
       "      <th>x</th>\n",
       "      <th>y</th>\n",
       "    </tr>\n",
       "  </thead>\n",
       "  <tbody>\n",
       "    <tr>\n",
       "      <th>0</th>\n",
       "      <td>0.1</td>\n",
       "      <td>0.04998</td>\n",
       "    </tr>\n",
       "    <tr>\n",
       "      <th>1</th>\n",
       "      <td>0.2</td>\n",
       "      <td>0.21364</td>\n",
       "    </tr>\n",
       "    <tr>\n",
       "      <th>2</th>\n",
       "      <td>0.3</td>\n",
       "      <td>0.41454</td>\n",
       "    </tr>\n",
       "    <tr>\n",
       "      <th>3</th>\n",
       "      <td>0.4</td>\n",
       "      <td>0.84672</td>\n",
       "    </tr>\n",
       "    <tr>\n",
       "      <th>4</th>\n",
       "      <td>0.5</td>\n",
       "      <td>1.17600</td>\n",
       "    </tr>\n",
       "  </tbody>\n",
       "</table>\n",
       "</div>"
      ],
      "text/plain": [
       "     x        y\n",
       "0  0.1  0.04998\n",
       "1  0.2  0.21364\n",
       "2  0.3  0.41454\n",
       "3  0.4  0.84672\n",
       "4  0.5  1.17600"
      ]
     },
     "execution_count": 20,
     "metadata": {},
     "output_type": "execute_result"
    }
   ],
   "source": [
    "first_run = pd.read_excel('Results.xlsx', 'First Run', index_col=None, na_values=['NA'])\n",
    "second_run = pd.read_excel('Results.xlsx', 'Second Run', index_col=None, na_values=['NA'])\n",
    "\n",
    "first_run.head()\n",
    "#second_run.head()"
   ]
  },
  {
   "cell_type": "markdown",
   "metadata": {},
   "source": [
    "### Plot the Excel Data\n",
    "Try plotting the Excel data with both sheets' data on the same graph with different marker colors and shapes. Do not use a connecting line between the markers. Label the axes. Label the data based on the sheet names, and be sure to show a legend."
   ]
  },
  {
   "cell_type": "code",
   "execution_count": 21,
   "metadata": {},
   "outputs": [
    {
     "data": {
      "image/png": "[encoded data removed]",
      "text/plain": [
       "<Figure size 432x288 with 1 Axes>"
      ]
     },
     "metadata": {
      "needs_background": "light"
     },
     "output_type": "display_data"
    }
   ],
   "source": [
    "plt.plot(first_run['x'], first_run['y'], 'rs', label='First Run')\n",
    "plt.plot(second_run['x'], second_run['y'], 'b*', label='Second Run')\n",
    "plt.grid(True)\n",
    "plt.xlabel('x')\n",
    "plt.ylabel('y')\n",
    "plt.legend(loc=0)\n",
    "plt.show()"
   ]
  },
  {
   "cell_type": "markdown",
   "metadata": {},
   "source": [
    "## Google Colaboratory\n",
    "This method ONLY works in the web-based Google Colaboratory. It will not work in a locally installed Jupyter environment.\n"
   ]
  },
  {
   "cell_type": "code",
   "execution_count": null,
   "metadata": {},
   "outputs": [],
   "source": [
    "from google.colab import files\n",
    "uploaded = files.upload()"
   ]
  },
  {
   "cell_type": "markdown",
   "metadata": {},
   "source": [
    "The previous code will create a pop-up so you can search for a local file to upload. Once uploaded you can use the method 1 that were used for local files. For example, if you upload a file named `filename.csv`, you would use pandas in the following way."
   ]
  },
  {
   "cell_type": "code",
   "execution_count": null,
   "metadata": {},
   "outputs": [],
   "source": [
    "import pandas as pd\n",
    "import io\n",
    "df = pd.read_csv(io.StringIO(uploaded['filename.csv'].decode('utf-8')))"
   ]
  }
 ],
 "metadata": {
  "kernelspec": {
   "display_name": "Python 3",
   "language": "python",
   "name": "python3"
  },
  "language_info": {
   "codemirror_mode": {
    "name": "ipython",
    "version": 3
   },
   "file_extension": ".py",
   "mimetype": "text/x-python",
   "name": "python",
   "nbconvert_exporter": "python",
   "pygments_lexer": "ipython3",
   "version": "3.8.5"
  }
 },
 "nbformat": 4,
 "nbformat_minor": 4
}
