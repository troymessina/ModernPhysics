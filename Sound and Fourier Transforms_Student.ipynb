{
 "cells": [
  {
   "cell_type": "markdown",
   "metadata": {},
   "source": [
    "# Fourier transforms of sound data\n",
    "\n",
    "\n",
    "<!--The Discrete Fourier Transform (DFT) is given by:\n",
    "\n",
    "$$c_k = \\sum_{n=0}^{N-1}y_n e^{-i\\frac{2\\pi kn}{N}}$$\n",
    "\n",
    "for $0 < k \\leq N/2$. -->\n",
    "\n",
    "The Fourier transform allows us to look at a periodic function in time to find the frequency composition of our function. For example, the figure below shows three different sinusoidal functions. They are distinguished by their frequency ($\\omega$ is $\\pi/2$ in red, $\\pi$ in green, and $2\\pi$ in blue).\n",
    "<img src=\"https://github.com/troymessina/ModernPhysics/blob/master/images/sinwv.png?raw=True\">\n",
    "The Fourier Transform results in a frequency spectrum as shown below. In this graph we see the three frequencies color coded as above. Each sinusoidal wave is composed of a single frequency.\n",
    "<img src=\"https://github.com/troymessina/ModernPhysics/blob/master/images/FFT.png?raw=True\">\n",
    "\n",
    "If the three sinusoidal waves were summed together to create a superposition, they would have a form like the following.\n",
    "\n",
    "$$f(t) = \\sin\\left(\\frac{\\pi}{2}t\\right) + \\sin\\left(\\pi t\\right) + \\sin\\left(2\\pi t\\right)$$\n",
    "\n",
    "And a graph of this function looks like the following.\n",
    "<img src=\"https://github.com/troymessina/ModernPhysics/blob/master/images/sinsum.png?raw=True\">\n",
    "The Fourier Transform of $f(t)$ results in a frequency spectrum as shown below.\n",
    "<img src=\"https://github.com/troymessina/ModernPhysics/blob/master/images/FFTsum.png?raw=True\">\n",
    "where we see the superposition is composed of three pure frequencies.\n",
    "\n",
    "## The Discrete Fourier Transform (DFT)\n",
    "Digital sound data is discrete. Data is taken at a rate given by the *sampling rate* of your recording device or application. Therefore, the discrete Fourier transform can be applied to calculate the frequency composition of an audio sample. In this activity, we will load in a text file of audio as an array $y_n$ and find what frequencies (or notes) are in the sound.\n",
    "\n",
    "$$\\large{c_k = \\sum_{n=0}^{N-1}y_n e^{-i\\frac{2\\pi kn}{N}}}$$\n",
    "\n",
    "$$c_k = \\sum_{n=0}^{N-1}y_n \\left[\\cos\\left(\\frac{2\\pi kn}{N}\\right)-i\\sin\\left(\\frac{2\\pi kn}{N}\\right)\\right]$$\n",
    "\n",
    "for $0 < k \\leq N/2$, where $N$ is the number of samples in your array. The value of $k/N$ describes a frequency $f$, and we assume we are unable to detect frequencies greater than $N/2$. This is called the Nyquist Limit, and is graphically represented below by a sine wave sampled twice for each period. If sampled at a lower rate, we would have no knowledge whether that frequency is in the signal.\n",
    "<img src=\"https://github.com/troymessina/ModernPhysics/blob/master/images/Nyquist.png?raw=True\">\n",
    "$n$ is the discrete point number in our sound data array and ranges $0\\leq n< N$.\n",
    "\n",
    "For now, we won't worry ourselves with the dissecting this mathematics any further."
   ]
  },
  {
   "cell_type": "code",
   "execution_count": null,
   "metadata": {},
   "outputs": [],
   "source": [
    "%matplotlib inline\n",
    "# imports here\n",
    "from IPython.display import Audio # plays audio in a Jupyter notebook\n",
    "import numpy as np\n",
    "from numpy import sin, cos, exp, log, pi\n",
    "import matplotlib.pyplot as plt\n",
    "#resize graphs so they are big\n",
    "%matplotlib inline\n",
    "import matplotlib as mpl\n",
    "mpl.rcParams['figure.figsize'] = (12,8)\n",
    "mpl.rcParams['font.size'] = 14\n",
    "mpl.rcParams['legend.fontsize'] = 14"
   ]
  },
  {
   "cell_type": "markdown",
   "metadata": {},
   "source": [
    "* Generate an array of simulated data with a known frequency, and use you function to calcluate the coefficients $c_k$. A pure tone at a frequency $f$ is given by $y = \\sin{2\\pi ft}$. We can hear frequencies of about $150 - 15000$ Hz. ***Note: make sure you are sampling enough points to fully represent your function.***\n",
    "    * Set the frequency of your sine wave.\n",
    "    * Set `t_max` to 100 periods.\n",
    "    * Set `N` such that $N\\ge t_{max}*frequency * 10$. This is related to the discussion above about the Nyquist limit.\n",
    "        * Explain what would happen if $N \\le t_{max}*frequency*2$.\n",
    "    * Fill in the equation for $\\omega$ and $y(t) = \\sin\\left(\\omega t\\right)$.\n",
    "\n",
    "\n",
    "* Play your simulated sound using `Audio` from `IPython.display` and see if the tone matches that of the frequency that you found (You can check here! http://www.szynalski.com/tone-generator/).\n"
   ]
  },
  {
   "cell_type": "code",
   "execution_count": null,
   "metadata": {},
   "outputs": [],
   "source": [
    "# generate data:\n",
    "frequency =  #Frequency of wave\n",
    "t_max =  #Maximum length of time (sampling length)\n",
    "N =  #Number of samples\n",
    "t = np.linspace(0,t_max,N) #time array\n",
    "\n",
    "omega =  #angular frequency\n",
    "y =  #sin(wt)\n",
    "\n",
    "#Full Plot\n",
    "plt.plot(t,y)\n",
    "plt.xlabel('time (s)')\n",
    "plt.ylabel('amplitude')\n",
    "plt.show()\n",
    "\n",
    "#Zoomed into one period Plot\n",
    "plt.plot(t,y)\n",
    "plt.xlabel('time (s)')\n",
    "plt.ylabel('amplitude')\n",
    "plt.xlim(0,1/frequency)\n",
    "plt.show()\n",
    "\n",
    "# play sound and verify it is at correct frequency:\n",
    "Audio(y, rate=len(t)/t_max, autoplay=True)"
   ]
  },
  {
   "cell_type": "markdown",
   "metadata": {},
   "source": [
    "\n",
    "**Create a `dft(y)` function that takes in an array of discrete points and returns a coefficient array.**\n",
    "* Get the number of samples `Nsamp = len(y)`.\n",
    "* Create a `c` array filled with zeros. It will have coefficients for N mod 2 + 1 different frequencies and is complex.\n",
    "    * `c = np.zeros(N//2+1, complex)`\n",
    "* Loop over `k` values up to `N/2+1`.\n",
    "* Loop over the number of samples in the wave.\n",
    "    * Calculate the coefficients by summing into the value of `c[k]` the current wave point times the complex exponential function.\n",
    "    * `c[k] += y[n]*exp(-2j*pi*k*n/N)`\n",
    "* Plot $c_k$ vs. $k$\n",
    "*  If we know the sample rate of the data, $f_s$, then we can convert the coefficient to a frequency: $f_k = \\frac{k f_s}{N}$, where N is the number of samples. For this example, $f_s = \\frac{N}{t_{max}}$\n",
    "\n",
    "* Calculate the frequency for your largest $c_k$ and verify that it matches your input frequency. HINTS:\n",
    "    * `c` is the amplitude of each frequency.\n",
    "    * `k` is a variable representing the row in the array of frequency amplitudes.\n",
    "    * `k` goes from 0 to N/2, and we assume $\\frac{N}{2}\\frac{1}{t_{max}}$ is the largest frequency we can evaluate."
   ]
  },
  {
   "cell_type": "code",
   "execution_count": null,
   "metadata": {},
   "outputs": [],
   "source": [
    "# create dft function, use it to plot c_k vs k, and visually determine k of highest peak.\n",
    "# convert your k to a frequency in Hz and compare to input frequency of simulated signal (they should be the same).\n",
    "def dft(y):\n",
    "    N = len(y)\n",
    "    c = \n",
    "    for k in range(N//2+1):\n",
    "        for n in range(N):\n",
    "            c[k] += \n",
    "    return c\n",
    "\n",
    "c = dft(y)\n",
    "freq_x = np.linspace(0, N/2/t_max, np.size(c))\n",
    "plt.plot(freq_x,abs(c))\n",
    "#plt.xlim(250,300)\n",
    "plt.show()\n",
    "k = np.argmax(c) # k of max c(k)\n",
    "print(\"The frequency is\", \"insert calculation for frequency of row k and remove quotes\", \"Hz\")"
   ]
  },
  {
   "cell_type": "markdown",
   "metadata": {},
   "source": [
    "### Check your code\n",
    "\n",
    "* Repeat the \"brute force\" Fourier Transform above for frequencies 200, 2000, 5000 Hz. Be patient the \"brute force\" method is slow to calculate.\n",
    "* When you play the waves as a sound, what do you observe?\n",
    "* Is the Fourier Transform accurate at finding the frequency? Explain how you know through both graphical inspection and calculation.\n",
    "\n",
    "\n",
    "## Analyze sound data\n",
    "\n",
    "It's possible to use a free program called Audacity to record sounds and export them as text. The process is described below. Before recording your own sounds. Proceed through the analysis of recordings supplied (a whistle and a hand clap). You will be using a built-in `numpy` Fourier Transform algorithm, which is much fast than the one you programmed. Feel free to compare your coded FFT with the `numpy` one. To use `numpy`, the following command is used.\n",
    "\n",
    "```Python\n",
    "np.fft.rfft(sound_array)\n",
    "```\n",
    "\n",
    "*NOTE: If you record your own sounds, you will need to troubleshoot any issues on your own.*\n",
    "\n",
    "* Use the program Audacity to record two sounds of your choosing, using anything available to you in the room. Feel free to choose any sound you like, for example, the instruments, your voice, or any other sound you can create. Keep in mind that you will be analyzing a *very* short duration of sound.\n",
    "    * Set the recording parameter \"Project Rate (Hz)\" to 44100.\n",
    "    * Record the sound, trying to keep it around 1-2 seconds.\n",
    "    * Crop the recording by selecting regions without sound and typing the \"Delete\" key.\n",
    "    * In the \"Tracks\" menu select \"Mix\" and then \"Mix Stereo Down to Mono\".\n",
    "    * In the \"Tools\" menu, select \"Sample Data Export...\" with the following settings.\n",
    "        * Limit output to first: $44100 \\times t_{max}$.\n",
    "        * Measurement scale: Linear\n",
    "        * Export data to: Create a file in the folder \"sounds\"\n",
    "        * Channel layout for stereo: L-R on Same Line\n",
    "* Load into Jupyter and check that the chosen portion plays your expected sound.\n",
    "* Calculate the fft, make the $c_k$ plot, and calculate the maximum amplitude frequency.\n",
    "* Qualitatively compare the frequency composition and the sound.\n",
    "\n",
    "### Sound #1 - Whistle\n",
    "\n",
    "The first sound is a whistle. The process is\n",
    "\n",
    "1. Load the sound.\n",
    "2. Set a sample rate.\n",
    "3. Find the number of samples.\n",
    "4. Create a time axis.\n",
    "5. Plot the sound."
   ]
  },
  {
   "cell_type": "code",
   "execution_count": null,
   "metadata": {},
   "outputs": [],
   "source": [
    "whistle = np.loadtxt(\"\",float)\n",
    "#y_sample = y[0:10000] #If your sound is too long, you can sample a small portion\n",
    "my_rate = \n",
    "N = whistle.size\n",
    "t_max = #maximum time of recording is N samples / sample rate\n",
    "t_ax = np.linspace(0, t_max, N) #the time axis igoes from 0 to t_max and sampled N times\n",
    "plt.plot(t_ax, whistle) #Use y_sample if you shorten it\n",
    "plt.xlabel('time (s)')\n",
    "plt.ylabel('amplitude')\n",
    "#plt.xlim(0,500)\n",
    "#xlim(0,400)\n",
    "plt.show()\n",
    "\n",
    "Audio(whistle,rate=44100, autoplay=True) #play the sound at the correct rate"
   ]
  },
  {
   "cell_type": "markdown",
   "metadata": {},
   "source": [
    "#### Analyze the Whistle\n",
    "\n",
    "To analyze the sound, we will use the `numpy` FFT. `rfft` returns the real portion of the FFT. You will notice above, we plotted the absolute value of our FFT to avoid complex numbers. We need to create a frequency array that is based on the sample rate `my_rate` and number of samples. The FFT will only attempt to calculate coefficients up to `my_rate/2`, and these frequency coefficients will be in an array that is `N/2` long. Actually, `N` could be odd. So, we need to mod `N` with 2 and add 1."
   ]
  },
  {
   "cell_type": "code",
   "execution_count": null,
   "metadata": {},
   "outputs": [],
   "source": [
    "c_whistle = np.fft.rfft(whistle)\n",
    "f_whistle = np.linspace(0, my_rate/2, N//2+1)\n",
    "print(c_whistle.size, N//2+1)\n",
    "plt.plot(f_whistle, abs(c_whistle))\n",
    "plt.xlabel('frequency (Hz)')\n",
    "plt.ylabel('amplitude')\n",
    "#plt.xlim(1200,1800)\n",
    "plt.show()\n",
    "k = np.argmax(abs(c_whistle)) # k of max c(k)\n",
    "print(\"The frequency is\", k/t_max, \"Hz\")"
   ]
  },
  {
   "cell_type": "markdown",
   "metadata": {},
   "source": [
    "### Sound #2 - Clap\n",
    "\n",
    "The second sound is a hand clap. you will enter all of the right sides of equations based on the previous example."
   ]
  },
  {
   "cell_type": "code",
   "execution_count": null,
   "metadata": {},
   "outputs": [],
   "source": [
    "clap = \n",
    "my_rate = \n",
    "N_clap = \n",
    "t_max_clap = \n",
    "t_clap = \n",
    "plt.plot()\n",
    "plt.xlabel('time (s)')\n",
    "plt.ylabel('amplitude')\n",
    "plt.show()\n",
    "Audio(clap,rate=44100, autoplay=True)"
   ]
  },
  {
   "cell_type": "markdown",
   "metadata": {},
   "source": [
    "Enter all of the necessary calculations based on the previous example of the whistle. It may be helpful with the clap to plot the FFT on a semi-log plot where the y-axis is log scale."
   ]
  },
  {
   "cell_type": "code",
   "execution_count": null,
   "metadata": {},
   "outputs": [],
   "source": [
    "c_clap = \n",
    "f_clap = \n",
    "\n",
    "#plt.plot()\n",
    "plt.semilogy()\n",
    "plt.xlabel('frequency (Hz)')\n",
    "plt.ylabel('amplitude')\n",
    "#plt.xlim(0.1,3000)\n",
    "#plt.ylim(0.1, 300)\n",
    "plt.show()\n",
    "\n",
    "k = \n",
    "print(\"The frequency is\", , \"Hz\")"
   ]
  },
  {
   "cell_type": "markdown",
   "metadata": {},
   "source": [
    "## There is more!\n",
    "There are other sounds in the sounds folder (ahhh, ehhh, hello). When you are finished with all of the sounds, write a summarizing paragraph about what you found for the different sounds' frequency spectra. Explain why some sounds have a more complicated spectrum while others are simpler."
   ]
  },
  {
   "cell_type": "code",
   "execution_count": null,
   "metadata": {},
   "outputs": [],
   "source": []
  }
 ],
 "metadata": {
  "kernelspec": {
   "display_name": "Python 3",
   "language": "python",
   "name": "python3"
  },
  "language_info": {
   "codemirror_mode": {
    "name": "ipython",
    "version": 3
   },
   "file_extension": ".py",
   "mimetype": "text/x-python",
   "name": "python",
   "nbconvert_exporter": "python",
   "pygments_lexer": "ipython3",
   "version": "3.8.8"
  }
 },
 "nbformat": 4,
 "nbformat_minor": 1
}
