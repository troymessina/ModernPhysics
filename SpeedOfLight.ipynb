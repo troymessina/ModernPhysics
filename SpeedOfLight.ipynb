{
 "cells": [
  {
   "cell_type": "markdown",
   "metadata": {},
   "source": [
    "# Speed of Light Lab\n",
    "## Introduction\n",
    "The constancy of the speed of light was long debated in historical physics. Many early scientists believed the speed to be infinite, while many others thought the speed was finite. The first known experimental evaluation of a finite speed of light was performed by James Bradley in 1728 using the slight deviation of light path due to the Earth's velocity. An apparatus for measuring the speed of light with earth-based light sources was built by Hippolyte Fizeau in 1849 and improved upon by Leon Foucault in 1862. This method used a light source that was chopped by a rotating cog wheel. The flashes of light passing through the cog wheel could be timed as they reached a distant detector. The resulting speed of light was calculated to be about $2.98\\times10^8$ m/s. More recent experiments by Albert Michelson have evaluated the speed to be $2.998\\times10^8$ m/s. In 1905 Albert Einstein, as part of his theory of special relativity, postulated that the speed of light is constant for all wavelengths in any inertial reference frame.(https://en.wikipedia.org/wiki/Speed_of_light) Using a pulsed nitrogen laser we have measured the speed of light using a method analogous to Fizeau and Foucault.\n",
    "\n",
    "## Experimental\n",
    "Our apparatus is shown in Fig.1. The experiment used a Laser Science Inc. VSI-337ND pulsed nitrogen laser at 337 nm wavelength light, $\\sim$1 ns long pulses, and 20 Hz repetition. The pulsed light was passed through a 50-50 beam splitter to send light to a trigger photodiode (Photodetector 1). A second, time-delayed photodiode (Photodetector 2) was varied in its distance, $\\Delta x$, from the beamsplitter over about one meter from a position where the two detectors were synchronized. This distance created a time difference, $\\Delta t$, between the light pulse detection on the two photodetectors. This time difference was measured using an oscilloscope with sub-nanosecond resolution.\n",
    "<center><img src=./images/SpeedofLightSetup1.png width=\"650px\">\n",
    "             Figure 1. Experimental setup for the speed of light measurement.</center>\n",
    "\n",
    "Sample data is shown for $\\Delta x=0$ mm (synchronized) in Fig. 2 and for $\\Delta x = 1100$ mm in Fig. 3. The time difference $\\Delta t$ was estimated using the grid on the oscilloscope screen with resolution of 0.2 ns.\n",
    "<center><img src=\"./images/synchronized-detectors.JPG\"width=\"400px\">\n",
    "Figure 2. Oscilloscope traces for when the detectors are spaced such that their detection is synchronized.\n",
    "<img src=./images/detectors_1100mm_apart.jpg width=\"400px\">\n",
    "Figure 3. Oscilloscope traces for when the detectors are spaced such that their separated by $\\Delta x = 1100$ mm.</center>\n",
    "\n",
    "Errors in the distance measurements were estimated to be 0.050 m based on the divisions on the track holding detector 2 in place and the width of the base holding detector 2 to the track. Errors in time measurements are estimated from the divisions on the oscillscope to be 0.1 ns.\n",
    "\n",
    "The values obtained for $\\Delta x$ were plotted as the independent variable for distance against the values for $\\Delta t$. The slope of the line obtained from least-squares fitting $\\Delta x$ vs. $\\Delta t$ is the experimental speed of light.\n",
    "\n",
    "## Data\n",
    "The table below shows the data collected and the error estimates.\n",
    "\n",
    "|$\\Delta x$ (m)|Uncertainty in $\\Delta x$ (m)|$\\Delta t$ (ns)|Uncertainty in $\\Delta t$ (ns)|\n",
    "|--------------|-----------------------------|---------------|------------------------------|\n",
    "| 0.00 | 0.05 | 0.00 | 0.10 | \n",
    "| 0.10 | 0.05 | 0.20 | 0.10 |\n",
    "| 0.20 | 0.05 | 0.40 | 0.10 |\n",
    "| 0.30 | 0.05 | 1.00 | 0.10 |\n",
    "| 0.40 | 0.05 | 1.00 | 0.10 |\n",
    "| 0.50 | 0.05 | 1.30 | 0.10 |\n",
    "| 0.60 | 0.05 | 1.40 | 0.10 |\n",
    "| 0.70 | 0.05 | 1.80 | 0.10 |\n",
    "| 0.80 | 0.05 | 2.20 | 0.10 |\n",
    "| 0.90 | 0.05 | 2.70 | 0.10 |\n",
    "| 1.00 | 0.05 | 3.20 | 0.10 |\n",
    "| 1.10 | 0.05 | 3.80 | 0.10 |\n",
    "\n",
    "## Analysis\n",
    "We will load data into Jupyter using Pandas. The Pandas dataframe is printed and graphed to check that the data is properly loaded. The library `curve_fit` from SciPy is used to do a linear least squares fit including the absolute uncertainties listed in the table above. The fit parameter for slope along with its uncertainty from the covariant matrix are used to determine the accuracty of our speed of light measurement.\n",
    "\n",
    "### Import Python Libraries"
   ]
  },
  {
   "cell_type": "code",
   "execution_count": 1,
   "metadata": {},
   "outputs": [],
   "source": [
    "import numpy as np\n",
    "import matplotlib.pyplot as plt\n",
    "import pandas as pd\n",
    "import scipy\n",
    "from scipy.optimize import curve_fit"
   ]
  },
  {
   "cell_type": "markdown",
   "metadata": {},
   "source": [
    "### Load Data\n",
    "We define the data to be `c_data`. It is loaded from an Excel spreadsheet using Pandas. The dataframe `c_data` is printed to ensure it loaded properly."
   ]
  },
  {
   "cell_type": "code",
   "execution_count": 2,
   "metadata": {},
   "outputs": [
    {
     "name": "stdout",
     "output_type": "stream",
     "text": [
      "    delta t  delta x\n",
      "0       0.0      0.0\n",
      "1       0.2      0.1\n",
      "2       0.4      0.2\n",
      "3       1.0      0.3\n",
      "4       1.0      0.4\n",
      "5       1.3      0.5\n",
      "6       1.4      0.6\n",
      "7       1.8      0.7\n",
      "8       2.2      0.8\n",
      "9       2.7      0.9\n",
      "10      3.2      1.0\n",
      "11      3.8      1.1\n"
     ]
    }
   ],
   "source": [
    "c_data = pd.read_excel('SpeedOfLight.xlsx', 'data', index_col=None, na_values=['NA'])\n",
    "print(c_data)"
   ]
  },
  {
   "cell_type": "markdown",
   "metadata": {},
   "source": [
    "### Plot the Excel Data\n",
    "Plotting the Excel data to ensure it appears linear."
   ]
  },
  {
   "cell_type": "code",
   "execution_count": 3,
   "metadata": {},
   "outputs": [
    {
     "data": {
      "image/png": "[encoded data removed]",
      "text/plain": [
       "<Figure size 432x288 with 1 Axes>"
      ]
     },
     "metadata": {
      "needs_background": "light"
     },
     "output_type": "display_data"
    }
   ],
   "source": [
    "plt.plot(c_data['delta t'], c_data['delta x'], 'og',label='Data')\n",
    "plt.xlabel('$\\Delta t$ (ns)')\n",
    "plt.ylabel('$\\Delta x$ (m)')\n",
    "plt.grid(True)\n",
    "plt.show()"
   ]
  },
  {
   "cell_type": "markdown",
   "metadata": {},
   "source": [
    "### Define a linear fit function\n",
    "We define the function `f_line` to be that of a line `f_line = mx + b`."
   ]
  },
  {
   "cell_type": "code",
   "execution_count": 4,
   "metadata": {},
   "outputs": [],
   "source": [
    "def f_line(x, m, b):\n",
    "    return m*x + b"
   ]
  },
  {
   "cell_type": "markdown",
   "metadata": {},
   "source": [
    "Define initial guess for the slope and intercept based upon our data graphed above. The $\\Delta t$ values used here are in nanoseconds. Therefore, the expected speed of light is\n",
    "\n",
    "$$3\\times 10^8~{\\rm m/s} \\times\\frac{10^{-9}~{\\rm s}}{\\rm ns} = 0.3~{\\rm m/ns}$$ \n",
    "\n",
    "The intercept is near zero, but we need to give the `curve_fit` a small non-zero guess.\n",
    "\n",
    "We run the curve fit and put the output into `fit_params` containing slope and intercept and `fit_cov` containing the covariant matrix of the squared uncertainties. Since we want to include uncertainty, we define an uncertainty column to be added to the dataframe. Then, we include that in the curve fitting as `sigma`. The uncertainties are absolute since they have the same units as the measurement. "
   ]
  },
  {
   "cell_type": "code",
   "execution_count": 5,
   "metadata": {},
   "outputs": [
    {
     "name": "stdout",
     "output_type": "stream",
     "text": [
      "[0.29525817 0.08250791] [[ 0.00015806 -0.00025026]\n",
      " [-0.00025026  0.00060458]]\n"
     ]
    }
   ],
   "source": [
    "m = 0.3 #m/ns\n",
    "b = 0.0005\n",
    "\n",
    "#create an uncertainty column for dx in the dataframe\n",
    "c_data['dx_unc'] = 0.05\n",
    "\n",
    "fit_params, fit_cov = curve_fit(f_line, c_data['delta t'], c_data['delta x'], (m,b), sigma=c_data['dx_unc'], absolute_sigma='True')\n",
    "print(fit_params, fit_cov)"
   ]
  },
  {
   "cell_type": "markdown",
   "metadata": {},
   "source": [
    "### Plot the fit\n",
    "The fit can now be added to the graph to see how well the line models our data. We first define arrays to store the fit $x$ and $y$, which are $\\Delta x$ and $\\Delta t$, respectively. We also want to include our error estimates on the graph. We will use `matplotlib.pyplot.errorbar` to do this. It is slightly different from the `plot` function we have used before. The markers are colored using `c=`; the markers are chosen using `marker=`; the marker face color is chosen using `mfc=`; the marker edge color is chosen using `mec=`; and the connecting line should be set with `ls='none'`."
   ]
  },
  {
   "cell_type": "code",
   "execution_count": 6,
   "metadata": {},
   "outputs": [
    {
     "data": {
      "image/png": "[encoded data removed]",
      "text/plain": [
       "<Figure size 432x288 with 1 Axes>"
      ]
     },
     "metadata": {
      "needs_background": "light"
     },
     "output_type": "display_data"
    }
   ],
   "source": [
    "dt_fit = np.linspace(0, 4, 50)\n",
    "dx_fit = fit_params[0]*dt_fit + fit_params[1]\n",
    "\n",
    "plt.errorbar(c_data['delta t'], c_data['delta x'], xerr=0.1, yerr=c_data['dx_unc'], c='green', marker='s', mfc='green', mec='green', ls='none', label='Data')\n",
    "plt.plot(dt_fit, dx_fit, '-g',label='Fit')\n",
    "plt.xlabel('$\\Delta t$ (ns)')\n",
    "plt.ylabel('$\\Delta x$ (m)')\n",
    "plt.legend(loc=0)\n",
    "plt.grid(True)\n",
    "plt.show()"
   ]
  },
  {
   "cell_type": "markdown",
   "metadata": {},
   "source": [
    "## Conclusions\n",
    "A pulsed laser has been used to measure the speed of light. Nanosecond long laser pulses separated with enough time (0.05 seconds) enabled measurement of short time delays between light pulses arriving at two different detectors. The speed of light was calculated to be\n",
    "\n",
    "$$c=2.952\\pm 0.012\\times 10^8~{\\rm m/s}$$\n",
    "\n",
    "While our (68% range) uncertainty does not include the known value of $2.998\\times 10^8~{\\rm m/s}$, we are within 2\\% of the known theoretical value. One can see the data flucutates above and below the best fit line such that the fit line does not pass through data points or the error bars. Therefore, there is some unaccounted for error in our measurements. The last two data points may be pulling the slope lower than the theoretical value. Remeasuring these data points may improve the results. Other possible improvements to the measurement accuracy and precision could be made with higher precision length measurements (or longer separation distances), shorter laser pulse duration, or faster detectors."
   ]
  },
  {
   "cell_type": "markdown",
   "metadata": {},
   "source": []
  }
 ],
 "metadata": {
  "kernelspec": {
   "display_name": "Python 3",
   "language": "python",
   "name": "python3"
  },
  "language_info": {
   "codemirror_mode": {
    "name": "ipython",
    "version": 3
   },
   "file_extension": ".py",
   "mimetype": "text/x-python",
   "name": "python",
   "nbconvert_exporter": "python",
   "pygments_lexer": "ipython3",
   "version": "3.8.8"
  }
 },
 "nbformat": 4,
 "nbformat_minor": 4
}
