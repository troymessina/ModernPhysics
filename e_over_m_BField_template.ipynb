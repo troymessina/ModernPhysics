{
 "cells": [
  {
   "cell_type": "code",
   "execution_count": 12,
   "id": "aaeca786",
   "metadata": {},
   "outputs": [],
   "source": [
    "import numpy as np #load library for math stuff\n",
    "import matplotlib.pyplot as plt #load graphing library\n",
    "import scipy\n",
    "from scipy.optimize import curve_fit"
   ]
  },
  {
   "cell_type": "markdown",
   "id": "c83c8e2c",
   "metadata": {},
   "source": [
    "# <font color=\"red\">Replace the word \"template\" with your name in the filename and remove this label.</font>\n",
    "\n",
    "# Electron Charge to Mass Ratio\n",
    "\n",
    "## Historical Context\n",
    "How is this experiment related to the work of J.J. Thompson?\n",
    "\n",
    "## Physics Background\n",
    "Include some of the mathematical background including written explanation from the manual. A derivation from the Lorentz Force to the $e/m$ dependence on voltage and current should be included. A diagram of your own like Figure One in the manual should be included. This diagram should indicate the initial velocity of the electron beam $v_o$, the direction of the magnetic field $B$, and the direction of the Lorentz Force $F$ on the initial electron beam.\n",
    "\n",
    "## Experimental Details\n",
    "* Explain how the apparatus works to make the physics background section measureable?\n",
    "* What are the relationships you plan to explore with the apparatus?\n",
    "    * What are the independent and dependent variables?\n",
    "\n",
    "## Results and Analysis\n",
    "Explain what the measurements are\n",
    "* changing voltage makes the electron velocity (or kinetic energy) change.\n",
    "* changing current makes the applied force on the electron change.\n",
    "\n",
    "Explain what you are doing with the measurements to evaluate $e/m$. It is recommended that you rearrange equation (3) in the manual so that you can plot the dependent variable (radius of the electron beam, $r$) vs. the independent variable, either the square root of voltage ($V^{1/2}$) or the reciprocal of the magnetic field ($1/B$). This will make the slope of your graph contain $e/m$.\n",
    "\n",
    "1. Begin with the voltage dependence."
   ]
  },
  {
   "cell_type": "code",
   "execution_count": 17,
   "id": "e3767470",
   "metadata": {},
   "outputs": [],
   "source": [
    "# This code cell sets a function for fitting a line.\n",
    "#Funtion for fitting\n",
    "def f_line(x, m, b):\n",
    "    return m*x + b"
   ]
  },
  {
   "cell_type": "code",
   "execution_count": null,
   "id": "2cfdfb55",
   "metadata": {},
   "outputs": [],
   "source": [
    "#This code cell creates variables and/or arrays of data for the voltage dependence\n",
    "BV = #constant magnetic field from the applied current\n",
    "V = np.array([])#voltage measurements\n",
    "rV = np.aray([])#radius of electron beam depending on voltage\n",
    "err_rV = np.aray([])#uncertainty in the radius of the ring"
   ]
  },
  {
   "cell_type": "code",
   "execution_count": null,
   "id": "dbf0275f",
   "metadata": {},
   "outputs": [],
   "source": [
    "#Do the linear fit of the voltage dependent data.\n",
    "#initial guesses for slope and intercept\n",
    "m = #slope\n",
    "b = #intercept\n",
    "fitV_params, fitV_cov = curve_fit(f_line, x, y, (m, b))\n",
    "print(fitV_params, fitV_cov)\n",
    "\n",
    "#create an y-array from the fit\n",
    "#keep in mind that fit_params[0] is the slope and fit_params[1] is the intercept\n",
    "fit_yV = #m*x + b\n",
    "\n",
    "#graph the result with labeled axes and a legend\n",
    "#insert all of the proper entries for x, y, marker, etc.\n",
    "#You will have plt.errorbar commands, one for each ring\n",
    "plt.errorbar(x, y, yerr=err_rV, fmt='or', capsize=5.0, capthick=1.0, label='')#plot the data\n",
    "plt.plot(x, fit, '-k', label='Fit')\n",
    "plt.xlabel('')\n",
    "plt.ylabel('')\n",
    "plt.legend()\n",
    "plt.show()"
   ]
  },
  {
   "cell_type": "markdown",
   "id": "cc486acf",
   "metadata": {},
   "source": [
    "**Note that the `fitV_cov` matrix is called the covariant matrix. It can be written as**\n",
    "\n",
    "$$\n",
    "{\\rm fit\\_cov} = \\begin{pmatrix}\n",
    "\\sigma^2_m & \\sigma^2_{mb}\\\\\n",
    "\\sigma^2_{bm} & \\sigma^2_b\n",
    "\\end{pmatrix}\n",
    "$$\n",
    "\n",
    "In this matrix the diagonals (`fitV_cov[0,0]` and `fitV_cov[1,1]`) are the squares of the uncertainty in your slope and intercept. You will need to propagate this uncertainty so that you can report a final\n",
    "\n",
    "$$\\frac{e}{m} = {\\rm value \\pm uncertainty}$$\n",
    "\n",
    "Explain this process.\n",
    "\n",
    "2. Next, do the magnetic field dependence."
   ]
  },
  {
   "cell_type": "code",
   "execution_count": null,
   "id": "f1a0fcaf",
   "metadata": {},
   "outputs": [],
   "source": [
    "#This code cell creates variables and/or arrays of data for the voltage dependence\n",
    "VB = #constant applied voltage for the electron KE\n",
    "B = np.array([])#voltage measurements\n",
    "rB = np.aray([])#radius of electron beam depending on magnetic field\n",
    "err_rB = np.aray([])#uncertainty in the radius of the ring"
   ]
  },
  {
   "cell_type": "code",
   "execution_count": null,
   "id": "d10787e7",
   "metadata": {},
   "outputs": [],
   "source": [
    "#Do the linear fit of the voltage dependent data.\n",
    "#initial guesses for slope and intercept\n",
    "m = #slope\n",
    "b = #intercept\n",
    "fitB_params, fitB_cov = curve_fit(f_line, x, y, (m, b))\n",
    "print(fitB_params, fitB_cov)\n",
    "\n",
    "#create an y-array from the fit\n",
    "#keep in mind that fit_params[0] is the slope and fit_params[1] is the intercept\n",
    "fit_yB = #m*x + b\n",
    "\n",
    "#graph the result with labeled axes and a legend\n",
    "#insert all of the proper entries for x, y, marker, etc.\n",
    "plt.errorbar(x, y, yerr=err_rB, fmt='or', capsize=5.0, capthick=1.0, label='')#plot the data\n",
    "plt.plot(x, fit, '-k', label='Fit')\n",
    "plt.xlabel('')\n",
    "plt.ylabel('')\n",
    "plt.legend()\n",
    "plt.show()"
   ]
  },
  {
   "cell_type": "markdown",
   "id": "ae0b79a6",
   "metadata": {},
   "source": [
    "You now have an $e/m$ result for changing the magnetic field that includes uncertainty from the least-squares linear fit.\n",
    "\n",
    "## Conclusions\n",
    "Make some concluding remarks about the accuracy of your results.\n",
    "* Do your results agree with the known value of $e/m$?\n",
    "* Is the uncertainty from fitting large compared to $e/m$?\n",
    "    * If so, why?\n",
    "    * What could be done to reduce the uncertainty?"
   ]
  },
  {
   "cell_type": "code",
   "execution_count": null,
   "id": "65d30b3e",
   "metadata": {},
   "outputs": [],
   "source": []
  }
 ],
 "metadata": {
  "kernelspec": {
   "display_name": "Python 3 (ipykernel)",
   "language": "python",
   "name": "python3"
  },
  "language_info": {
   "codemirror_mode": {
    "name": "ipython",
    "version": 3
   },
   "file_extension": ".py",
   "mimetype": "text/x-python",
   "name": "python",
   "nbconvert_exporter": "python",
   "pygments_lexer": "ipython3",
   "version": "3.8.13"
  }
 },
 "nbformat": 4,
 "nbformat_minor": 5
}
